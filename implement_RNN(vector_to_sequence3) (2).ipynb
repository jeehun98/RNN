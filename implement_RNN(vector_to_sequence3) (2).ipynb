{
  "nbformat": 4,
  "nbformat_minor": 0,
  "metadata": {
    "colab": {
      "provenance": []
    },
    "kernelspec": {
      "name": "python3",
      "display_name": "Python 3"
    },
    "language_info": {
      "name": "python"
    }
  },
  "cells": [
    {
      "cell_type": "code",
      "source": [
        "import numpy as np"
      ],
      "metadata": {
        "id": "l12m8-hpJVEF"
      },
      "execution_count": 35,
      "outputs": []
    },
    {
      "cell_type": "code",
      "source": [
        "def generate_time_series(batch_size, n_steps):\n",
        "    freq1, freq2, offsets1, offsets2 = np.random.rand(4, batch_size, 1)\n",
        "    time = np.linspace(0, 1, n_steps)\n",
        "    series = 0.5 * np.sin((time - offsets1) * (freq1 * 10 + 10))  #   웨이브 1\n",
        "    series += 0.2 * np.sin((time - offsets2) * (freq2 * 20 + 20)) # + 웨이브 2\n",
        "    series += 0.1 * (np.random.rand(batch_size, n_steps) - 0.5)   # + 잡음\n",
        "    return series[..., np.newaxis].astype(np.float32)"
      ],
      "metadata": {
        "id": "_SBKypfVPcVo"
      },
      "execution_count": 36,
      "outputs": []
    },
    {
      "cell_type": "markdown",
      "source": [
        "batch_size 개수만큼의 시계열 데이터가 생성\n",
        "\n",
        "각 시계열 데이터는 n_steps 만큼의 데이터가 있고,\n",
        "\n",
        "앞선 n_steps - 1 개의 데이터를 통해 n_steps 번째의 데이터를 예측한다."
      ],
      "metadata": {
        "id": "vzmvofPETGdS"
      }
    },
    {
      "cell_type": "code",
      "source": [
        "np.random.seed(42)\n",
        "\n",
        "n_steps = 50\n",
        "series = generate_time_series(10000, n_steps + 1)\n",
        "X_train, y_train = series[:7000, :n_steps], series[:7000, -1]\n",
        "X_valid, y_valid = series[7000:9000, :n_steps], series[7000:9000, -1]\n",
        "X_test, y_test = series[9000:, :n_steps], series[9000:, -1]"
      ],
      "metadata": {
        "id": "wfOMndrQQEgT"
      },
      "execution_count": 37,
      "outputs": []
    },
    {
      "cell_type": "code",
      "source": [
        "X_train.shape"
      ],
      "metadata": {
        "colab": {
          "base_uri": "https://localhost:8080/"
        },
        "id": "R_Eox7LdQ48p",
        "outputId": "7743d336-c5cd-4c2f-98df-6af729a1d318"
      },
      "execution_count": 38,
      "outputs": [
        {
          "output_type": "execute_result",
          "data": {
            "text/plain": [
              "(7000, 50, 1)"
            ]
          },
          "metadata": {},
          "execution_count": 38
        }
      ]
    },
    {
      "cell_type": "code",
      "source": [
        "X_train[0].shape"
      ],
      "metadata": {
        "colab": {
          "base_uri": "https://localhost:8080/"
        },
        "id": "KYIP9iTFRKV_",
        "outputId": "780170ff-3469-42e1-bd9e-fcb516185d71"
      },
      "execution_count": 39,
      "outputs": [
        {
          "output_type": "execute_result",
          "data": {
            "text/plain": [
              "(50, 1)"
            ]
          },
          "metadata": {},
          "execution_count": 39
        }
      ]
    },
    {
      "cell_type": "code",
      "source": [
        "y_train.shape"
      ],
      "metadata": {
        "colab": {
          "base_uri": "https://localhost:8080/"
        },
        "id": "0mninr1wRFbE",
        "outputId": "d0aee418-1d5f-4fdc-9729-7583a6d98d78"
      },
      "execution_count": 40,
      "outputs": [
        {
          "output_type": "execute_result",
          "data": {
            "text/plain": [
              "(7000, 1)"
            ]
          },
          "metadata": {},
          "execution_count": 40
        }
      ]
    },
    {
      "cell_type": "code",
      "execution_count": 41,
      "metadata": {
        "id": "GMWSqGgcJP_p"
      },
      "outputs": [],
      "source": [
        "# 활성화 함수\n",
        "class activation_function:\n",
        "  # 시그모이드 함수\n",
        "  def sigmoid(self, x):\n",
        "    return 1 / (1+np.e**-x)\n",
        "  \n",
        "  # 시그모이드 함수의 미분 함수\n",
        "  def sigmoid_diff(self, x):\n",
        "    return x * (1 - x)"
      ]
    },
    {
      "cell_type": "code",
      "source": [
        "# 비용 함수 클래스, 비용 함수의 종류에 따라 다른 클래스 내 함수를 사용한다.\n",
        "class cost_function:\n",
        "  # 예측값\n",
        "  predict = []\n",
        "  # 타겟값\n",
        "  target = []\n",
        "  # 비용 함수값\n",
        "  error_cost = []\n",
        "\n",
        "  # 오차 제곱합\n",
        "  def errer_squared_sum(self, predict, target):\n",
        "    self.predict = predict\n",
        "    self.target = target\n",
        "\n",
        "    self.error_cost = np.sum(0.5*((predict - target)**2))\n",
        "    return self.error_cost\n",
        "\n",
        "  # 오차 제곱합 미분 함수\n",
        "  def diff_error_squared_sum(self):\n",
        "    return self.predict - self.target"
      ],
      "metadata": {
        "id": "Pc9UQa7iEF-E"
      },
      "execution_count": 42,
      "outputs": []
    },
    {
      "cell_type": "code",
      "execution_count": 413,
      "metadata": {
        "id": "mbFrbXEwCsXo"
      },
      "outputs": [],
      "source": [
        "class RNN_vector_to_sequence:\n",
        "    #입력값\n",
        "    input_data = []\n",
        "    \n",
        "    #가중치\n",
        "    weight = []\n",
        "    \n",
        "    #편향값\n",
        "    bias = []\n",
        "\n",
        "    # 입력 가중치\n",
        "    input_w = []\n",
        "\n",
        "    # 이전 출력에 대한 가중치\n",
        "    before_w = []\n",
        "\n",
        "    # 출력 가중치\n",
        "    result_w = []\n",
        "\n",
        "    # 편향 값 bais\n",
        "    bias = []\n",
        "\n",
        "    # 노드 입력\n",
        "    node_input = []\n",
        "\n",
        "    # 노드 출력\n",
        "    node_output = []\n",
        "\n",
        "    # 타겟, 목푯값\n",
        "    target = []\n",
        "\n",
        "    # 활성화 함수\n",
        "    activation = activation_function()\n",
        "\n",
        "    # 비용 함수\n",
        "    cost = cost_function()\n",
        "\n",
        "    # 예측 결과\n",
        "    predict = []\n",
        "\n",
        "    # 각 층의 델타 값의 저장\n",
        "    delta = []\n",
        "\n",
        "     # 각 가중치 업데이트 크기\n",
        "    input_weight_update = []\n",
        "\n",
        "    before_weight_update = []\n",
        "\n",
        "    result_weight_update = []\n",
        "\n",
        "    def delta_to_sequence_cal_rnn(self, input, target):\n",
        "\n",
        "      # 타겟값의 저장\n",
        "      self.target = target\n",
        "\n",
        "\n",
        "      # 입력 데이터 크기에 맞는 가중치 값이 생성되어야 한다.\n",
        "      # 입력 (3,1) 데이터에 대한 연산 결과 (1,1)를 예측한다고 가정,\n",
        "\n",
        "      # 입력값에 사용되는 가중치\n",
        "      # (3,1) 크기의 입력 데이터에 대해 (1,1) 의 행렬곱 연산 결과를 얻기 위해, (1,3) 크기의 가중치 행렬이 필요하다\n",
        "      input_w = np.random.rand(target.shape[0], input.shape[0])\n",
        "\n",
        "      # 이전 출력에 대한 가중치\n",
        "      # (1,1) 노드 출력에 대해 (1,1) 의 행렬곱 연산 결과를 얻기 위한, (1,1) 크기의 가중치 행렬\n",
        "      before_w = np.random.rand(target.shape[0], target.shape[0])\n",
        "\n",
        "      # 예측에 사용되는 가중치\n",
        "      # 노드 출력 (3,1) 에 대해 예측값 (1,1) 크기의 데이터 행렬을 얻기 위해, (1,3) 크기의 가중치 행렬이 필요하다.\n",
        "      result_w = np.random.rand(target.shape[0], input.shape[0])\n",
        "\n",
        "      # 이전 노드의 출력, 첫 부분의 경우 이 값이 0이다. 행렬의 크기는 (1,1)\n",
        "      before = np.zeros((target.shape[0], target.shape[0]))\n",
        "\n",
        "      # (3, n) 크기의 입력 데이터에서 n 번의 반복을 수행하게 됨\n",
        "      for i in range(input.shape[0]):\n",
        "        # 노드 입력 계산\n",
        "        node_input = (before_w @ before) + (input_w @ input)\n",
        "        self.node_input.append(node_input)\n",
        "\n",
        "        # 노드 출력 계산\n",
        "        node_output = self.activation.sigmoid(node_input)\n",
        "        self.node_output.append(node_output)\n",
        "\n",
        "        # 순환 노드의 다음 노드 입력값의 계산\n",
        "        before = self.before_w @ node_output\n",
        "\n",
        "      self.predict = self.result_w @ node_output\n",
        "\n",
        "      return self.predict\n",
        "\n",
        "    def delta_to_sequence_cal_rnn_test(self, input, target):\n",
        "\n",
        "      # 타겟값의 저장\n",
        "      self.target = target\n",
        "\n",
        "      # 입력 데이터의 저장\n",
        "      self.input = input\n",
        "\n",
        "      # 입력 데이터 크기에 맞는 가중치 값이 생성되어야 한다.\n",
        "      # 입력 (3,1) 데이터에 대한 연산 결과 (1,1)를 예측한다고 가정,\n",
        "\n",
        "      # 입력값에 사용되는 가중치\n",
        "      # (3,1) 크기의 입력 데이터에 대해 (1,1) 의 행렬곱 연산 결과를 얻기 위해, (1,3) 크기의 가중치 행렬이 필요하다\n",
        "      self.input_w = np.random.rand(target.shape[0], input.shape[1])\n",
        "      \n",
        "      # 이전 출력에 대한 가중치\n",
        "      # (1,1) 노드 출력에 대해 (1,1) 의 행렬곱 연산 결과를 얻기 위한, (1,1) 크기의 가중치 행렬\n",
        "      self.before_w = np.random.rand(target.shape[0], target.shape[0])\n",
        "\n",
        "      # 예측에 사용되는 가중치\n",
        "      # 노드 출력 (3,1) 에 대해 예측값 (1,1) 크기의 데이터 행렬을 얻기 위해, (1,3) 크기의 가중치 행렬이 필요하다.\n",
        "      self.result_w = np.random.rand(target.shape[0], input.shape[1])\n",
        "\n",
        "      # 이전 노드의 출력, 첫 부분의 경우 이 값이 0이다. 행렬의 크기는 (1,1)\n",
        "      before = np.zeros((target.shape[0], target.shape[0]))\n",
        "      \n",
        "      # (3, n) 크기의 입력 데이터에서 n 번의 반복을 수행하게 됨\n",
        "      for i in range(input.shape[0]):\n",
        "        # 노드 입력 데이터의 numpy 행렬 생성\n",
        "        input_data = input[i].reshape(input.shape[1],-1)\n",
        "\n",
        "        # RNN 노드 입력 값 계산, 이전 노드 출력 @ 가중치 + 입력 데이터 @ 가중치\n",
        "        node_input = (self.before_w @ before) + (self.input_w @ input_data)\n",
        "        self.node_input.append(node_input)\n",
        "\n",
        "        # 노드 출력 계산, 활성화 함수 연산을 수행한다.\n",
        "        node_output = self.activation.sigmoid(node_input)\n",
        "        self.node_output.append(node_output)\n",
        "\n",
        "        # 순환 노드의 다음 노드 입력값의 계산\n",
        "        before = self.before_w @ node_output\n",
        "\n",
        "      self.predict = self.activation.sigmoid(self.result_w @ node_output)\n",
        "\n",
        "      return self.predict\n",
        "\n",
        "    def cost_cal(self):\n",
        "      return self.cost.errer_squared_sum(self.predict, self.target)\n",
        "\n",
        "    \n",
        "    def cal_delta(self):\n",
        "      #출력 노드의 변화량에 대한 오차 함수의 변화량 계산\n",
        "      delta = (self.cost.diff_error_squared_sum() * self.activation.sigmoid_diff(self.predict))\n",
        "      self.delta.append(delta)\n",
        "\n",
        "      # 해당 delta 값을 통해 result_w 의 가중치 업데이트 크기를 계산할 수 있다.\n",
        "      # delta 값과 result_w 의 변화량(이전 노드의 출력) 의 계산을 통해 result_w 의 변화량을 계산한다.\n",
        "      self.result_weight_update = (delta @ self.node_output[self.input.shape[0] - 1].T).T\n",
        "\n",
        "      # 노드 출력의 변화에 대한 비용 함수의 변화량 계산\n",
        "      delta = self.result_w @ delta\n",
        "      # 활성화 함수에 따른 변화량 계산, 해당 값이 노드 변화에 대한 비용 함수의 변화량이 된다. \n",
        "      delta = delta * self.activation.sigmoid_diff(self.node_output[self.input.shape[0] - 1])\n",
        "      # 노드별 delta 값의 저장\n",
        "      self.delta.append(delta)\n",
        "\n",
        "      # 출력층과 연결된 노드를 제외한 n-1 개의 delta 값을 계산하기 위해 각 반복은 n-1 번 만큼 반복되어야 한다.\n",
        "      for i in range(input.shape[0] - 2, -1, -1):\n",
        "        delta = self.before_w @ delta\n",
        "        delta = delta * self.activation.sigmoid_diff(self.node_output[i])\n",
        "        self.delta.append(delta)\n",
        "      \n",
        "      # 반복이 종료된 후 최초 노드의 변화량에 대한 비용 함수의 변화량을 얻을 수 있다.\n",
        "      # 각 가중치 변화량의 계산\n",
        "      self.input_weight_update = (delta @ self.input[0])\n",
        "\n",
        "      # before_weight 의 변화량은 최초 입력이 0 으로 정의했기 때문에 최초 노드의 출력을 이용해 그 변화량을 계산한다.\n",
        "      self.before_weight_update = (delta @ self.node_output[0])\n",
        "\n",
        "    def update_weight(self, learning_rate):\n",
        "      self.input_w = self.input_w - self.input_weight_update * learning_rate\n",
        "      self.before_w = self.before_w - self.before_weight_update * learning_rate\n",
        "      self.result_w = self.result_w - self.result_weight_update * learning_rate\n",
        "\n",
        "    def iterations(self, iterations, learning_rate):\n",
        "      for j in range(iterations):\n",
        "        # 이전 노드의 출력, 첫 부분의 경우 이 값이 0이다. 행렬의 크기는 (1,1)\n",
        "        before = np.zeros((target.shape[0], target.shape[0]))\n",
        "        for i in range(input.shape[0]):\n",
        "          # 노드 입력 데이터의 numpy 행렬 생성\n",
        "          input_data = input[i].reshape(input.shape[1],-1)\n",
        "\n",
        "          # RNN 노드 입력 값 계산, 이전 노드 출력 @ 가중치 + 입력 데이터 @ 가중치\n",
        "          node_input = (self.before_w @ before) + (self.input_w @ input_data)\n",
        "          self.node_input.append(node_input)\n",
        "\n",
        "          # 노드 출력 계산, 활성화 함수 연산을 수행한다.\n",
        "          node_output = self.activation.sigmoid(node_input)\n",
        "          self.node_output.append(node_output)\n",
        "\n",
        "          # 순환 노드의 다음 노드 입력값의 계산\n",
        "          before = self.before_w @ node_output\n",
        "\n",
        "        self.predict = self.activation.sigmoid(self.result_w @ node_output)\n",
        "        self.cal_delta()\n",
        "        self.update_weight(learning_rate)\n",
        "        print(self.cost_cal())\n",
        "\n"
      ]
    },
    {
      "cell_type": "code",
      "source": [
        "rnn = RNN_vector_to_sequence()"
      ],
      "metadata": {
        "id": "b1i1bIqgUUPB"
      },
      "execution_count": 414,
      "outputs": []
    },
    {
      "cell_type": "code",
      "source": [
        "input = X_train[0]"
      ],
      "metadata": {
        "id": "UVrhsFWLWHsy"
      },
      "execution_count": 415,
      "outputs": []
    },
    {
      "cell_type": "code",
      "source": [
        "target = y_train[0].reshape(1,-1)"
      ],
      "metadata": {
        "id": "qiqGPJf8WKxA"
      },
      "execution_count": 416,
      "outputs": []
    },
    {
      "cell_type": "code",
      "source": [
        "input.shape"
      ],
      "metadata": {
        "colab": {
          "base_uri": "https://localhost:8080/"
        },
        "id": "6TGm8e5gYIlg",
        "outputId": "c809dd2b-1880-41c1-bb9a-ff2165870538"
      },
      "execution_count": 417,
      "outputs": [
        {
          "output_type": "execute_result",
          "data": {
            "text/plain": [
              "(50, 1)"
            ]
          },
          "metadata": {},
          "execution_count": 417
        }
      ]
    },
    {
      "cell_type": "code",
      "source": [
        "target.shape"
      ],
      "metadata": {
        "colab": {
          "base_uri": "https://localhost:8080/"
        },
        "id": "LuLZ2KjYYHKU",
        "outputId": "29518241-0684-44a1-a859-fe507c6c0cea"
      },
      "execution_count": 418,
      "outputs": [
        {
          "output_type": "execute_result",
          "data": {
            "text/plain": [
              "(1, 1)"
            ]
          },
          "metadata": {},
          "execution_count": 418
        }
      ]
    },
    {
      "cell_type": "code",
      "source": [
        "rnn.delta_to_sequence_cal_rnn_test(input, target)"
      ],
      "metadata": {
        "colab": {
          "base_uri": "https://localhost:8080/"
        },
        "id": "5itVTWd_UY23",
        "outputId": "a92960c8-f9e0-4d75-f94c-7295dad0ab71"
      },
      "execution_count": 419,
      "outputs": [
        {
          "output_type": "execute_result",
          "data": {
            "text/plain": [
              "array([[0.58774118]])"
            ]
          },
          "metadata": {},
          "execution_count": 419
        }
      ]
    },
    {
      "cell_type": "code",
      "source": [
        "rnn.cost_cal()"
      ],
      "metadata": {
        "id": "8CHcRzkcVhda",
        "colab": {
          "base_uri": "https://localhost:8080/"
        },
        "outputId": "5b93fed7-2903-4d14-bfa6-c2ce1dbbb07f"
      },
      "execution_count": 420,
      "outputs": [
        {
          "output_type": "execute_result",
          "data": {
            "text/plain": [
              "0.4442805211918948"
            ]
          },
          "metadata": {},
          "execution_count": 420
        }
      ]
    },
    {
      "cell_type": "code",
      "source": [
        "rnn.cal_delta()"
      ],
      "metadata": {
        "id": "utaUVxmYmn9x"
      },
      "execution_count": 421,
      "outputs": []
    },
    {
      "cell_type": "code",
      "source": [
        "rnn.input_weight_update"
      ],
      "metadata": {
        "colab": {
          "base_uri": "https://localhost:8080/"
        },
        "id": "czWJn9x-zwQ9",
        "outputId": "4e7f8981-4f0d-42c2-ff38-f581ea17ffd6"
      },
      "execution_count": 422,
      "outputs": [
        {
          "output_type": "execute_result",
          "data": {
            "text/plain": [
              "array([2.23665987e-91])"
            ]
          },
          "metadata": {},
          "execution_count": 422
        }
      ]
    },
    {
      "cell_type": "code",
      "source": [
        "rnn.before_weight_update"
      ],
      "metadata": {
        "colab": {
          "base_uri": "https://localhost:8080/"
        },
        "id": "9NZc9rmErxs7",
        "outputId": "aebb8261-a723-4c0a-f0b2-cc367361fd30"
      },
      "execution_count": 423,
      "outputs": [
        {
          "output_type": "execute_result",
          "data": {
            "text/plain": [
              "array([[2.7944446e-91]])"
            ]
          },
          "metadata": {},
          "execution_count": 423
        }
      ]
    },
    {
      "cell_type": "code",
      "source": [
        "rnn.result_weight_update"
      ],
      "metadata": {
        "colab": {
          "base_uri": "https://localhost:8080/"
        },
        "id": "rSSxSMdxu2Je",
        "outputId": "48ca6c43-6233-4a94-a354-631afd33f297"
      },
      "execution_count": 424,
      "outputs": [
        {
          "output_type": "execute_result",
          "data": {
            "text/plain": [
              "array([[0.10841863]])"
            ]
          },
          "metadata": {},
          "execution_count": 424
        }
      ]
    },
    {
      "cell_type": "code",
      "source": [
        "rnn.iterations(10, 0.001)"
      ],
      "metadata": {
        "colab": {
          "base_uri": "https://localhost:8080/"
        },
        "id": "nCjnabubz5al",
        "outputId": "710289e7-f1d6-4e4b-9dfe-56da51143e28"
      },
      "execution_count": 425,
      "outputs": [
        {
          "output_type": "stream",
          "name": "stdout",
          "text": [
            "0.4442805211918948\n",
            "0.4442687666180695\n",
            "0.4442570119874555\n",
            "0.4442452574555864\n",
            "0.4442335030225001\n",
            "0.44422174868823233\n",
            "0.4442099944528192\n",
            "0.4441982403162963\n",
            "0.44418648627869967\n",
            "0.44417473234006505\n"
          ]
        }
      ]
    },
    {
      "cell_type": "code",
      "source": [
        "rnn.iterations(10, 0.01)"
      ],
      "metadata": {
        "colab": {
          "base_uri": "https://localhost:8080/"
        },
        "id": "_hHKFkhH1zDP",
        "outputId": "72489a63-25f5-40e7-a052-a713de5c58ca"
      },
      "execution_count": 426,
      "outputs": [
        {
          "output_type": "stream",
          "name": "stdout",
          "text": [
            "0.44416297850042835\n",
            "0.4440454433259426\n",
            "0.44392790408561916\n",
            "0.4438103748104592\n",
            "0.4436928555381432\n",
            "0.44357534630448625\n",
            "0.4434578471452886\n",
            "0.4433403580963358\n",
            "0.443222879193399\n",
            "0.44310541047223456\n"
          ]
        }
      ]
    },
    {
      "cell_type": "code",
      "source": [
        "rnn.iterations(100, 0.01)"
      ],
      "metadata": {
        "colab": {
          "base_uri": "https://localhost:8080/"
        },
        "id": "OEwhbL_L2pA1",
        "outputId": "b181010b-5405-4656-dad2-ba2036da15ed"
      },
      "execution_count": 427,
      "outputs": [
        {
          "output_type": "stream",
          "name": "stdout",
          "text": [
            "0.44298795196858454\n",
            "0.4428705037181756\n",
            "0.44275306575672035\n",
            "0.4426356381199159\n",
            "0.44251822084344483\n",
            "0.44240081396297454\n",
            "0.44228341751415745\n",
            "0.44216603153263095\n",
            "0.4420486560540172\n",
            "0.44193129111392304\n",
            "0.4418139367479403\n",
            "0.44169659299164504\n",
            "0.4415792598805985\n",
            "0.4414619374503459\n",
            "0.4413446257364176\n",
            "0.4412273247743275\n",
            "0.44111003459957476\n",
            "0.44099275524764237\n",
            "0.4408754867539975\n",
            "0.44075822915409185\n",
            "0.4406409824833612\n",
            "0.44052374677722517\n",
            "0.4404065220710877\n",
            "0.44028930840033637\n",
            "0.44017210580034277\n",
            "0.44005491430646276\n",
            "0.43993773395403524\n",
            "0.43982056477838344\n",
            "0.4397034068148142\n",
            "0.43958626009861773\n",
            "0.43946912466506777\n",
            "0.43935200054942203\n",
            "0.43923488778692105\n",
            "0.4391177864127893\n",
            "0.4390006964622342\n",
            "0.4388836179704468\n",
            "0.43876655097260087\n",
            "0.43864949550385374\n",
            "0.43853245159934584\n",
            "0.43841541929420047\n",
            "0.4382983986235238\n",
            "0.43818138962240555\n",
            "0.43806439232591743\n",
            "0.43794740676911487\n",
            "0.4378304329870352\n",
            "0.4377134710146992\n",
            "0.4375965208871099\n",
            "0.4374795826392528\n",
            "0.4373626563060963\n",
            "0.4372457419225912\n",
            "0.43712883952367054\n",
            "0.43701194914424973\n",
            "0.43689507081922696\n",
            "0.43677820458348177\n",
            "0.4366613504718769\n",
            "0.4365445085192565\n",
            "0.43642767876044725\n",
            "0.4363108612302576\n",
            "0.4361940559634781\n",
            "0.4360772629948812\n",
            "0.4359604823592212\n",
            "0.43584371409123424\n",
            "0.4357269582256382\n",
            "0.4356102147971324\n",
            "0.4354934838403985\n",
            "0.43537676539009895\n",
            "0.43526005948087837\n",
            "0.4351433661473623\n",
            "0.43502668542415807\n",
            "0.4349100173458543\n",
            "0.434793361947021\n",
            "0.4346767192622093\n",
            "0.43456008932595147\n",
            "0.43444347217276114\n",
            "0.43432686783713303\n",
            "0.4342102763535426\n",
            "0.43409369775644663\n",
            "0.43397713208028266\n",
            "0.4338605793594691\n",
            "0.4337440396284054\n",
            "0.4336275129214714\n",
            "0.43351099927302805\n",
            "0.4333944987174166\n",
            "0.4332780112889592\n",
            "0.4331615370219584\n",
            "0.4330450759506973\n",
            "0.43292862810943944\n",
            "0.4328121935324286\n",
            "0.43269577225388933\n",
            "0.4325793643080259\n",
            "0.43246296972902304\n",
            "0.4323465885510458\n",
            "0.43223022080823936\n",
            "0.4321138665347287\n",
            "0.43199752576461903\n",
            "0.4318811985319955\n",
            "0.4317648848709231\n",
            "0.43164858481544677\n",
            "0.431532298399591\n",
            "0.43141602565736054\n"
          ]
        }
      ]
    },
    {
      "cell_type": "code",
      "source": [
        "target"
      ],
      "metadata": {
        "colab": {
          "base_uri": "https://localhost:8080/"
        },
        "id": "-_mVGLlL2r6E",
        "outputId": "69b097aa-d6bf-4d8d-8077-23f3d031420d"
      },
      "execution_count": 428,
      "outputs": [
        {
          "output_type": "execute_result",
          "data": {
            "text/plain": [
              "array([[-0.35489398]], dtype=float32)"
            ]
          },
          "metadata": {},
          "execution_count": 428
        }
      ]
    },
    {
      "cell_type": "code",
      "source": [
        "rnn.predict"
      ],
      "metadata": {
        "colab": {
          "base_uri": "https://localhost:8080/"
        },
        "id": "NwS1NrkK2wG0",
        "outputId": "0215c799-8891-42a2-cdcf-9e33e80a02a8"
      },
      "execution_count": 429,
      "outputs": [
        {
          "output_type": "execute_result",
          "data": {
            "text/plain": [
              "array([[0.57399355]])"
            ]
          },
          "metadata": {},
          "execution_count": 429
        }
      ]
    },
    {
      "cell_type": "code",
      "source": [],
      "metadata": {
        "id": "cGQCctfm2w6p"
      },
      "execution_count": null,
      "outputs": []
    }
  ]
}