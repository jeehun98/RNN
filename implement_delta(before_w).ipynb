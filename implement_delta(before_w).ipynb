{
  "nbformat": 4,
  "nbformat_minor": 0,
  "metadata": {
    "colab": {
      "provenance": []
    },
    "kernelspec": {
      "name": "python3",
      "display_name": "Python 3"
    },
    "language_info": {
      "name": "python"
    }
  },
  "cells": [
    {
      "cell_type": "code",
      "source": [
        "import numpy as np\n",
        "import sympy"
      ],
      "metadata": {
        "id": "kzyAvyX7rGpj"
      },
      "execution_count": 54,
      "outputs": []
    },
    {
      "cell_type": "code",
      "source": [
        "perch_length = np.array(\n",
        "    [8.4, 13.7, 15.0, 16.2, 17.4, 18.0, 18.7, 19.0, 19.6, 20.0, \n",
        "     21.0, 21.0, 21.0, 21.3, 22.0, 22.0, 22.0, 22.0, 22.0, 22.5, \n",
        "     22.5, 22.7, 23.0, 23.5, 24.0, 24.0, 24.6, 25.0, 25.6, 26.5, \n",
        "     27.3, 27.5, 27.5, 27.5, 28.0, 28.7, 30.0, 32.8, 34.5, 35.0, \n",
        "     36.5, 36.0, 37.0, 37.0, 39.0, 39.0, 39.0, 40.0, 40.0, 40.0, \n",
        "     40.0, 42.0, 43.0, 43.0, 43.5, 44.0]\n",
        "     )\n",
        "perch_weight = np.array(\n",
        "    [5.9, 32.0, 40.0, 51.5, 70.0, 100.0, 78.0, 80.0, 85.0, 85.0, \n",
        "     110.0, 115.0, 125.0, 130.0, 120.0, 120.0, 130.0, 135.0, 110.0, \n",
        "     130.0, 150.0, 145.0, 150.0, 170.0, 225.0, 145.0, 188.0, 180.0, \n",
        "     197.0, 218.0, 300.0, 260.0, 265.0, 250.0, 250.0, 300.0, 320.0, \n",
        "     514.0, 556.0, 840.0, 685.0, 700.0, 700.0, 690.0, 900.0, 650.0, \n",
        "     820.0, 850.0, 900.0, 1015.0, 820.0, 1100.0, 1000.0, 1100.0, \n",
        "     1000.0, 1000.0]\n",
        "     )"
      ],
      "metadata": {
        "id": "6X3EmCMPICMF"
      },
      "execution_count": 55,
      "outputs": []
    },
    {
      "cell_type": "code",
      "execution_count": 56,
      "metadata": {
        "id": "_-kdD_qDqsoN"
      },
      "outputs": [],
      "source": [
        "class Rnn:\n",
        "  \"\"\"\n",
        "  순환 신경망의 계산\n",
        "  \"\"\"\n",
        "  # 입력 가중치\n",
        "  input_w = []\n",
        "\n",
        "  # 이전 출력에 대한 가중치\n",
        "  before_w = []\n",
        "\n",
        "  # 출력 가중치\n",
        "  result_w = []\n",
        "\n",
        "  # 편향 값 bais\n",
        "  bias = []\n",
        "\n",
        "  def cal_rnn(self, input, output, input_w = [], bias = []):\n",
        "    \"\"\"\n",
        "    순환 신경망 은닉층까지의 계산\n",
        "    args\n",
        "      input : 입력 데이터\n",
        "      output : 원하는 출력 형태\n",
        "    return \n",
        "      순환 신경망의 계산 결과\n",
        "    \"\"\"\n",
        "    # 이전 출력에 대한 입력, 첫 부분의 경우 이 값이 0이다.\n",
        "    before = np.zeros((output.shape[0], output.shape[1]))\n",
        "\n",
        "    # 이전 출력에 대한 가중치\n",
        "    before_w = np.random.rand(output.shape[0], output.shape[0])\n",
        "\n",
        "    self.before_w.append(before_w)\n",
        "\n",
        "    # 가중치 w의 생성, \n",
        "    if not input_w:\n",
        "      input_w = np.random.rand(output.shape[0], input.shape[0])\n",
        "    \n",
        "    if not bias:\n",
        "      bias = np.random.rand()\n",
        "\n",
        "    self.input_w.append(input_w)\n",
        "\n",
        "    self.bias.append(bias)\n",
        "\n",
        "    return (before_w @ before) + (input_w @ input) + bias\n",
        "\n",
        "  def cal_result(self, input, output, w = []):\n",
        "    \"\"\"\n",
        "    순환 신경망의 은닉층 출력에서 최종 결과값으로의 계산\n",
        "    args\n",
        "      input : 입력 데이터\n",
        "      output : 원하는 출력 형태\n",
        "    return \n",
        "      행렬 곱 연산 결과\n",
        "    \"\"\"\n",
        "    # 가중치 생성\n",
        "    if not w:\n",
        "      result_w = np.random.rand(output.shape[0], output.shape[0])\n",
        "\n",
        "    self.result_w.append(result_w)\n",
        "\n",
        "    return result_w @ input"
      ]
    },
    {
      "cell_type": "code",
      "source": [
        "class Activation:\n",
        "  \"\"\"\n",
        "  데이터의 활성화 함수 연산 결과를 얻기 위함\n",
        "  추가로 역전파 계산에 필요한 활성화 함수의 미분 함수\n",
        "  \"\"\"\n",
        "  # 활성화 함수\n",
        "  fx = 0\n",
        "  # 활성화 함수의 미분 함수\n",
        "  d_fx = 0\n",
        "\n",
        "  def sigmoid_fun(self, input):\n",
        "    \"\"\"\n",
        "    시그모이드 함수\n",
        "    자연 상수의 지수 함수를 사용한 0~1 사이의 값 출력\n",
        "    Args:\n",
        "      input : 입력값\n",
        "    Return:\n",
        "      0~1 사이의 값\n",
        "    \"\"\"\n",
        "    x = sympy.Symbol('x')\n",
        "    result = []\n",
        "\n",
        "    self.fx = 1/(1+np.e**(-x))\n",
        "\n",
        "    self.d_fx = sympy.diff(self.fx, x)\n",
        "\n",
        "    for i in range(input.shape[0]):\n",
        "      result.append(self.fx.subs([(x, input[i][0])]))\n",
        "\n",
        "    return np.array(result).reshape(-1, 1)\n",
        "\n",
        "  def d_sigmoid_fun(self, input):\n",
        "    \"\"\"\n",
        "    시그모이드 함수의 미분값, 노드의 출력이 입력된다.\n",
        "    arg\n",
        "      input : 입력값\n",
        "    return\n",
        "      시그모이드 미분 함수의 계산 값\n",
        "    \"\"\"\n",
        "    result = []\n",
        "\n",
        "    x = sympy.Symbol('x')\n",
        "\n",
        "    for i in range(input.shape[0]):\n",
        "      result.append(self.d_fx.subs([(x,input[i][0])]))\n",
        "\n",
        "    return np.array(result).reshape(-1, 1)"
      ],
      "metadata": {
        "id": "RmV7boqvUfXB"
      },
      "execution_count": 57,
      "outputs": []
    },
    {
      "cell_type": "code",
      "source": [
        "class Error:\n",
        "  \"\"\"\n",
        "  오차 함수와 오차 함수의 미분 함수를 얻을 수 있다.  \n",
        "  \"\"\"\n",
        "  # 오차 함수\n",
        "  fx = 0\n",
        "  \n",
        "  # 오차 함수의 미분값\n",
        "  d_fx = 0\n",
        "  \n",
        "  def RMSE(self, target, predict):\n",
        "    \"\"\"\n",
        "    일반적인 제곱 오차 함수\n",
        "    args:\n",
        "      target : 목표 변수\n",
        "      predict : 예측 변수\n",
        "    return:\n",
        "      제곱 오차 평균 값\n",
        "    \"\"\"\n",
        "    result = (predict - target)**2\n",
        "    self.result = np.mean(result)\n",
        "\n",
        "    t = sympy.Symbol('t')\n",
        "    y = sympy.Symbol('y')\n",
        "\n",
        "    self.fx = 1/2*((y-t)**2)\n",
        "\n",
        "    self.d_fx = sympy.diff(self.fx, y)\n",
        "\n",
        "    return self.result\n",
        "\n",
        "  def d_RMSE(self, target, predict):\n",
        "    \"\"\"\n",
        "    RMSE 의 미분 함수\n",
        "    args\n",
        "      target : 목표 변수\n",
        "      predict : 예측 변수\n",
        "    return:\n",
        "      미분 함수의 계산 값\n",
        "    \"\"\"\n",
        "    result = []\n",
        "\n",
        "    t = sympy.Symbol('t')\n",
        "    y = sympy.Symbol('y')\n",
        "\n",
        "    for i in range(target.shape[0]):\n",
        "      result.append(self.d_fx.subs([(t, target[i][0]), (y, predict[i][0])]))\n",
        "    \n",
        "    return np.array(result).reshape(-1, 1)\n"
      ],
      "metadata": {
        "id": "xCdI_XqApbCi"
      },
      "execution_count": 58,
      "outputs": []
    },
    {
      "cell_type": "code",
      "source": [
        "input = perch_length[:3].reshape(-1,1)"
      ],
      "metadata": {
        "id": "llAe7T0HM1zj"
      },
      "execution_count": 59,
      "outputs": []
    },
    {
      "cell_type": "code",
      "source": [
        "target = perch_length[:4].reshape(-1,1)"
      ],
      "metadata": {
        "id": "U2iTt79ktjP_"
      },
      "execution_count": 60,
      "outputs": []
    },
    {
      "cell_type": "code",
      "source": [
        "output = np.zeros((4,1))"
      ],
      "metadata": {
        "id": "TgQz1OEkNMKK"
      },
      "execution_count": 61,
      "outputs": []
    },
    {
      "cell_type": "code",
      "source": [
        "input.shape"
      ],
      "metadata": {
        "colab": {
          "base_uri": "https://localhost:8080/"
        },
        "id": "yLUnWwP9NUNT",
        "outputId": "f1f2174a-0fc2-4ed3-e9d5-8e762b88e60c"
      },
      "execution_count": 62,
      "outputs": [
        {
          "output_type": "execute_result",
          "data": {
            "text/plain": [
              "(3, 1)"
            ]
          },
          "metadata": {},
          "execution_count": 62
        }
      ]
    },
    {
      "cell_type": "code",
      "source": [
        "output.shape"
      ],
      "metadata": {
        "colab": {
          "base_uri": "https://localhost:8080/"
        },
        "id": "VfEuissDNXfg",
        "outputId": "4258c8b6-a806-445e-fec4-33276279eaf5"
      },
      "execution_count": 63,
      "outputs": [
        {
          "output_type": "execute_result",
          "data": {
            "text/plain": [
              "(4, 1)"
            ]
          },
          "metadata": {},
          "execution_count": 63
        }
      ]
    },
    {
      "cell_type": "code",
      "source": [
        "rnn = Rnn()"
      ],
      "metadata": {
        "id": "k5_cQs5JM6gU"
      },
      "execution_count": 64,
      "outputs": []
    },
    {
      "cell_type": "code",
      "source": [
        "rnn_hidden_input = rnn.cal_rnn(input, output)\n",
        "rnn_hidden_input"
      ],
      "metadata": {
        "colab": {
          "base_uri": "https://localhost:8080/"
        },
        "id": "i_uykjRAM8am",
        "outputId": "18d509bb-ef18-41fd-ff1a-466538e1bd47"
      },
      "execution_count": 65,
      "outputs": [
        {
          "output_type": "execute_result",
          "data": {
            "text/plain": [
              "array([[16.13509278],\n",
              "       [23.88676665],\n",
              "       [14.31629311],\n",
              "       [14.4601489 ]])"
            ]
          },
          "metadata": {},
          "execution_count": 65
        }
      ]
    },
    {
      "cell_type": "code",
      "source": [
        "act = Activation()"
      ],
      "metadata": {
        "id": "AWSiq6mWUgDb"
      },
      "execution_count": 66,
      "outputs": []
    },
    {
      "cell_type": "code",
      "source": [
        "rnn_hidden_output = act.sigmoid_fun(rnn_hidden_input)\n",
        "rnn_hidden_output"
      ],
      "metadata": {
        "colab": {
          "base_uri": "https://localhost:8080/"
        },
        "id": "GfGMvxEgUi_j",
        "outputId": "9bf7d088-6265-4932-cd03-34d8e48cdfae"
      },
      "execution_count": 67,
      "outputs": [
        {
          "output_type": "execute_result",
          "data": {
            "text/plain": [
              "array([[0.999999901685359],\n",
              "       [0.999999999957722],\n",
              "       [0.999999393944166],\n",
              "       [0.999999475147951]], dtype=object)"
            ]
          },
          "metadata": {},
          "execution_count": 67
        }
      ]
    },
    {
      "cell_type": "code",
      "source": [
        "rnn_result = rnn.cal_result(rnn_hidden_output, output)\n",
        "rnn_result"
      ],
      "metadata": {
        "colab": {
          "base_uri": "https://localhost:8080/"
        },
        "id": "84tksF--UuoJ",
        "outputId": "07c4fcf7-b63b-4b2b-fa7f-a9326d9c4d76"
      },
      "execution_count": 68,
      "outputs": [
        {
          "output_type": "execute_result",
          "data": {
            "text/plain": [
              "array([[1.18203729542417],\n",
              "       [1.91053482912450],\n",
              "       [1.48584480676199],\n",
              "       [1.43518364970557]], dtype=object)"
            ]
          },
          "metadata": {},
          "execution_count": 68
        }
      ]
    },
    {
      "cell_type": "markdown",
      "source": [
        "델타 연산"
      ],
      "metadata": {
        "id": "oDSWaNjmr7Ty"
      }
    },
    {
      "cell_type": "markdown",
      "source": [
        "예측 노드의 델타,\n",
        "\n",
        "오차 함수의 미분값과 동일하다.(활성화 함수로 항등 함수를 사용했기 때문)"
      ],
      "metadata": {
        "id": "Zj4uGixAaDRV"
      }
    },
    {
      "cell_type": "code",
      "source": [
        "err = Error()"
      ],
      "metadata": {
        "id": "Xt2S52BXtKF7"
      },
      "execution_count": 69,
      "outputs": []
    },
    {
      "cell_type": "code",
      "source": [
        "result = err.RMSE(target, rnn_result)\n",
        "result"
      ],
      "metadata": {
        "id": "nk4F6D04X1Mi",
        "colab": {
          "base_uri": "https://localhost:8080/",
          "height": 37
        },
        "outputId": "aa722bc2-a053-423c-f0c3-fef8f8228089"
      },
      "execution_count": 70,
      "outputs": [
        {
          "output_type": "execute_result",
          "data": {
            "text/plain": [
              "147.930666766194"
            ],
            "text/latex": "$\\displaystyle 147.930666766194$"
          },
          "metadata": {},
          "execution_count": 70
        }
      ]
    },
    {
      "cell_type": "code",
      "source": [
        "result_delta = err.d_RMSE(target, rnn_result)\n",
        "result_delta"
      ],
      "metadata": {
        "colab": {
          "base_uri": "https://localhost:8080/"
        },
        "id": "CCz4zT8maPdx",
        "outputId": "bd09fa0c-41c5-48d5-bca6-12098db8139e"
      },
      "execution_count": 71,
      "outputs": [
        {
          "output_type": "execute_result",
          "data": {
            "text/plain": [
              "array([[-7.21796270457583],\n",
              "       [-11.7894651708755],\n",
              "       [-13.5141551932380],\n",
              "       [-14.7648163502944]], dtype=object)"
            ]
          },
          "metadata": {},
          "execution_count": 71
        }
      ]
    },
    {
      "cell_type": "markdown",
      "source": [
        "예측 노드의 델타를 사용한 result_w 값 업데이트"
      ],
      "metadata": {
        "id": "fkBGfLnltGpf"
      }
    },
    {
      "cell_type": "code",
      "source": [
        "rnn_hidden_output"
      ],
      "metadata": {
        "colab": {
          "base_uri": "https://localhost:8080/"
        },
        "id": "sO3cbRyh51lJ",
        "outputId": "84142ba8-b1a7-43fe-c679-ac57c3fd9804"
      },
      "execution_count": 72,
      "outputs": [
        {
          "output_type": "execute_result",
          "data": {
            "text/plain": [
              "array([[0.999999901685359],\n",
              "       [0.999999999957722],\n",
              "       [0.999999393944166],\n",
              "       [0.999999475147951]], dtype=object)"
            ]
          },
          "metadata": {},
          "execution_count": 72
        }
      ]
    },
    {
      "cell_type": "code",
      "source": [
        "d_result_w = result_delta * rnn_hidden_output\n",
        "d_result_w"
      ],
      "metadata": {
        "colab": {
          "base_uri": "https://localhost:8080/"
        },
        "id": "Phm_AP8f5OMq",
        "outputId": "39369112-f3e9-4daa-ac6f-29815871ba72"
      },
      "execution_count": 73,
      "outputs": [
        {
          "output_type": "execute_result",
          "data": {
            "text/plain": [
              "array([[-7.21796199494442],\n",
              "       [-11.7894651703771],\n",
              "       [-13.5141470029054],\n",
              "       [-14.7648086009503]], dtype=object)"
            ]
          },
          "metadata": {},
          "execution_count": 73
        }
      ]
    },
    {
      "cell_type": "markdown",
      "source": [
        "예측 노드의 델타를 이용한 은닉층 노드의 delta 값 계산"
      ],
      "metadata": {
        "id": "Yx8ClN6AoYaY"
      }
    },
    {
      "cell_type": "code",
      "source": [
        "result_delta"
      ],
      "metadata": {
        "colab": {
          "base_uri": "https://localhost:8080/"
        },
        "id": "myrTnsYXoP_7",
        "outputId": "f38d073a-a42f-4715-ee8e-099685e928ed"
      },
      "execution_count": 74,
      "outputs": [
        {
          "output_type": "execute_result",
          "data": {
            "text/plain": [
              "array([[-7.21796270457583],\n",
              "       [-11.7894651708755],\n",
              "       [-13.5141551932380],\n",
              "       [-14.7648163502944]], dtype=object)"
            ]
          },
          "metadata": {},
          "execution_count": 74
        }
      ]
    },
    {
      "cell_type": "code",
      "source": [
        "rnn.result_w[0]"
      ],
      "metadata": {
        "colab": {
          "base_uri": "https://localhost:8080/"
        },
        "id": "1cZo-7xdoXoV",
        "outputId": "49d72807-40fb-4a8a-a67d-de8067e56958"
      },
      "execution_count": 75,
      "outputs": [
        {
          "output_type": "execute_result",
          "data": {
            "text/plain": [
              "array([[0.18802295, 0.55568031, 0.12443641, 0.31389788],\n",
              "       [0.50525982, 0.68218805, 0.71791151, 0.00517594],\n",
              "       [0.49789167, 0.02542964, 0.52432298, 0.43820112],\n",
              "       [0.09432367, 0.40647504, 0.82187416, 0.11251135]])"
            ]
          },
          "metadata": {},
          "execution_count": 75
        }
      ]
    },
    {
      "cell_type": "markdown",
      "source": [
        "은닉층의 각 노드들의 변화에 따른 오차 함수의 변화량"
      ],
      "metadata": {
        "id": "7OSINdqNrusE"
      }
    },
    {
      "cell_type": "code",
      "source": [
        "d_hidden_c = (result_delta.T @ rnn.result_w[0]).T\n",
        "d_hidden_c"
      ],
      "metadata": {
        "colab": {
          "base_uri": "https://localhost:8080/"
        },
        "id": "kwiMkBJnrEqq",
        "outputId": "7d5a8a5b-a46e-4b93-bd6c-5a08be9f463d"
      },
      "execution_count": 89,
      "outputs": [
        {
          "output_type": "execute_result",
          "data": {
            "text/plain": [
              "array([[-15.4351427352711],\n",
              "       [-18.3987013596630],\n",
              "       [-28.5825731811051],\n",
              "       [-9.90985203407411]], dtype=object)"
            ]
          },
          "metadata": {},
          "execution_count": 89
        }
      ]
    },
    {
      "cell_type": "markdown",
      "source": [
        "위 값을 통한 은닉층 각 노드들의 델타 계산, 활성화 함수의 미분값과의 계산"
      ],
      "metadata": {
        "id": "5d0oQFhvr8F1"
      }
    },
    {
      "cell_type": "code",
      "source": [
        "d_hidden_c"
      ],
      "metadata": {
        "colab": {
          "base_uri": "https://localhost:8080/"
        },
        "id": "VFkMlTkcvgEP",
        "outputId": "856cf202-6e1d-4ce6-b6be-0df4a94ff582"
      },
      "execution_count": 77,
      "outputs": [
        {
          "output_type": "execute_result",
          "data": {
            "text/plain": [
              "array([[-14.2246138463362],\n",
              "       [-21.4679680852872],\n",
              "       [-17.4493064720950],\n",
              "       [-18.2410923560772]], dtype=object)"
            ]
          },
          "metadata": {},
          "execution_count": 77
        }
      ]
    },
    {
      "cell_type": "code",
      "source": [
        "act.d_sigmoid_fun(rnn_hidden_output)"
      ],
      "metadata": {
        "colab": {
          "base_uri": "https://localhost:8080/"
        },
        "id": "Ei-Q9XE4vixX",
        "outputId": "5bfeb751-ee53-434c-ec41-7f60d583db55"
      },
      "execution_count": 78,
      "outputs": [
        {
          "output_type": "execute_result",
          "data": {
            "text/plain": [
              "array([[0.196611942174128],\n",
              "       [0.196611933245323],\n",
              "       [0.196611988306343],\n",
              "       [0.196611980928352]], dtype=object)"
            ]
          },
          "metadata": {},
          "execution_count": 78
        }
      ]
    },
    {
      "cell_type": "code",
      "source": [
        "hidden_delta = d_hidden_c * act.d_sigmoid_fun(rnn_hidden_output)\n",
        "hidden_delta"
      ],
      "metadata": {
        "colab": {
          "base_uri": "https://localhost:8080/"
        },
        "id": "gvjlGFCIrN6a",
        "outputId": "e17083dd-fc61-43db-80be-fb1e46fe605e"
      },
      "execution_count": 79,
      "outputs": [
        {
          "output_type": "execute_result",
          "data": {
            "text/plain": [
              "array([[-2.79672895500516],\n",
              "       [-4.22085870809721],\n",
              "       [-3.43074284004534],\n",
              "       [-3.58641730242535]], dtype=object)"
            ]
          },
          "metadata": {},
          "execution_count": 79
        }
      ]
    },
    {
      "cell_type": "markdown",
      "source": [
        "은닉층의 델타값을 통한 input_w 의 계산"
      ],
      "metadata": {
        "id": "YB7vpZGzsY9K"
      }
    },
    {
      "cell_type": "code",
      "source": [
        "hidden_delta"
      ],
      "metadata": {
        "colab": {
          "base_uri": "https://localhost:8080/"
        },
        "id": "vI7X6ZoJvMWB",
        "outputId": "4407f91a-8e93-4e21-941c-b344a8dfb749"
      },
      "execution_count": 80,
      "outputs": [
        {
          "output_type": "execute_result",
          "data": {
            "text/plain": [
              "array([[-2.79672895500516],\n",
              "       [-4.22085870809721],\n",
              "       [-3.43074284004534],\n",
              "       [-3.58641730242535]], dtype=object)"
            ]
          },
          "metadata": {},
          "execution_count": 80
        }
      ]
    },
    {
      "cell_type": "code",
      "source": [
        "rnn.input_w[0]"
      ],
      "metadata": {
        "colab": {
          "base_uri": "https://localhost:8080/"
        },
        "id": "9qlcEhdBsp98",
        "outputId": "44f7226c-8bba-430e-b447-413ec94eed00"
      },
      "execution_count": 83,
      "outputs": [
        {
          "output_type": "execute_result",
          "data": {
            "text/plain": [
              "array([[0.13418625, 0.03504287, 0.93531496],\n",
              "       [0.89914156, 0.22793664, 0.84754193],\n",
              "       [0.54702681, 0.11774743, 0.5073341 ],\n",
              "       [0.39470372, 0.43863229, 0.30915058]])"
            ]
          },
          "metadata": {},
          "execution_count": 83
        }
      ]
    },
    {
      "cell_type": "code",
      "source": [
        "d_input_w = (hidden_delta.T @ rnn.input_w[0]).T\n",
        "d_input_w"
      ],
      "metadata": {
        "colab": {
          "base_uri": "https://localhost:8080/"
        },
        "id": "9iy07c8SsSxw",
        "outputId": "36d87892-38d8-4924-ae9f-cc1d8bdd3139"
      },
      "execution_count": 82,
      "outputs": [
        {
          "output_type": "execute_result",
          "data": {
            "text/plain": [
              "array([[-7.46271264574641],\n",
              "       [-3.03717332355474],\n",
              "       [-9.04245299602057]], dtype=object)"
            ]
          },
          "metadata": {},
          "execution_count": 82
        }
      ]
    },
    {
      "cell_type": "markdown",
      "source": [
        "은닉층의 델타값을 통한 before_w 의 계산"
      ],
      "metadata": {
        "id": "z3xnEiByxqkF"
      }
    },
    {
      "cell_type": "code",
      "source": [
        "rnn.before_w[0]"
      ],
      "metadata": {
        "colab": {
          "base_uri": "https://localhost:8080/"
        },
        "id": "vIv4ZfE-xnYt",
        "outputId": "addec8c4-9043-4d91-aaec-a0a02fd5760a"
      },
      "execution_count": 84,
      "outputs": [
        {
          "output_type": "execute_result",
          "data": {
            "text/plain": [
              "array([[0.72761951, 0.53149889, 0.03904396, 0.21613048],\n",
              "       [0.75939745, 0.40200076, 0.29118307, 0.17488802],\n",
              "       [0.93049705, 0.1024098 , 0.77678084, 0.97373921],\n",
              "       [0.52391858, 0.70815429, 0.69635269, 0.45566093]])"
            ]
          },
          "metadata": {},
          "execution_count": 84
        }
      ]
    },
    {
      "cell_type": "code",
      "source": [
        "d_before_w = (hidden_delta.T @ rnn.before_w[0]).T\n",
        "d_before_w"
      ],
      "metadata": {
        "colab": {
          "base_uri": "https://localhost:8080/"
        },
        "id": "t4F-AzHVyUfo",
        "outputId": "38783cd6-8218-47ce-a588-cd5e7b457a44"
      },
      "execution_count": 86,
      "outputs": [
        {
          "output_type": "execute_result",
          "data": {
            "text/plain": [
              "array([[-10.3115506148098],\n",
              "       [-6.07432518793251],\n",
              "       [-6.50058460493769],\n",
              "       [-6.31747506408580]], dtype=object)"
            ]
          },
          "metadata": {},
          "execution_count": 86
        }
      ]
    },
    {
      "cell_type": "code",
      "source": [],
      "metadata": {
        "id": "OMWx74aMya3X"
      },
      "execution_count": null,
      "outputs": []
    }
  ]
}