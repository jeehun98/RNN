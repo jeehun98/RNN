{
  "nbformat": 4,
  "nbformat_minor": 0,
  "metadata": {
    "colab": {
      "provenance": []
    },
    "kernelspec": {
      "name": "python3",
      "display_name": "Python 3"
    },
    "language_info": {
      "name": "python"
    }
  },
  "cells": [
    {
      "cell_type": "code",
      "source": [
        "import numpy as np"
      ],
      "metadata": {
        "id": "l12m8-hpJVEF"
      },
      "execution_count": 1,
      "outputs": []
    },
    {
      "cell_type": "code",
      "execution_count": 2,
      "metadata": {
        "id": "GMWSqGgcJP_p"
      },
      "outputs": [],
      "source": [
        "# 활성화 함수\n",
        "class activation_function:\n",
        "  # 시그모이드 함수\n",
        "  def sigmoid(self, x):\n",
        "    return 1 / (1+np.e**-x)\n",
        "  \n",
        "  # 시그모이드 함수의 미분 함수\n",
        "  def sigmoid_diff(self, x):\n",
        "    return x * (1 - x)"
      ]
    },
    {
      "cell_type": "code",
      "source": [
        "class RNN:\n",
        "  \"\"\"\n",
        "  순환 신경망의 계산\n",
        "  \"\"\"\n",
        "  # 입력 가중치\n",
        "  input_w = []\n",
        "\n",
        "  # 이전 출력에 대한 가중치\n",
        "  before_w = []\n",
        "\n",
        "  # 출력 가중치\n",
        "  result_w = []\n",
        "\n",
        "  # 편향 값 bais\n",
        "  bias = []\n",
        "\n",
        "  # 노드 입력\n",
        "  node_input = []\n",
        "\n",
        "  # 노드 출력\n",
        "  node_output = []\n",
        "\n",
        "  # 활성화 함수\n",
        "  activation = activation_function()\n",
        "\n",
        "  # 예측 결과\n",
        "  predict = []\n",
        "\n",
        "  def cal_rnn(self, input, target, bias):\n",
        "    \n",
        "    self.input_w = input_w\n",
        "    self.before_w = before_w\n",
        "    self.result_w = result_w\n",
        "\n",
        "    # 이전 노드의 출력, 첫 부분의 경우 이 값이 0이다.\n",
        "    before = np.zeros((target.shape[0], target.shape[1]))\n",
        "\n",
        "    # 노드 입력 계산\n",
        "    node_input = (before_w @ before) + (input_w @ input) + bias\n",
        "    self.node_input.append(node_input)\n",
        "\n",
        "    # 노드 출력 계산\n",
        "    node_output = self.activation.sigmoid(node_input)\n",
        "    self.node_output.append(node_output)\n",
        "\n",
        "    print(node_input, node_output)\n",
        "    \n",
        "    # 예측값 계산\n",
        "    predict = result_w @ node_output\n",
        "    self.predict.append(self.activation.sigmoid(predict))\n",
        "\n",
        "    # 순환 노드의 다음 노드 입력값의 계산\n",
        "    before = self.before_w @ predict\n",
        "\n",
        "\n"
      ],
      "metadata": {
        "id": "6Y8l2RYrJWxu"
      },
      "execution_count": null,
      "outputs": []
    }
  ]
}