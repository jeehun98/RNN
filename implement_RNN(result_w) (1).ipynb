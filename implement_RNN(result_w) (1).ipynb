{
  "nbformat": 4,
  "nbformat_minor": 0,
  "metadata": {
    "colab": {
      "provenance": []
    },
    "kernelspec": {
      "name": "python3",
      "display_name": "Python 3"
    },
    "language_info": {
      "name": "python"
    }
  },
  "cells": [
    {
      "cell_type": "code",
      "source": [
        "import numpy as np\n",
        "import sympy"
      ],
      "metadata": {
        "id": "kzyAvyX7rGpj"
      },
      "execution_count": 1,
      "outputs": []
    },
    {
      "cell_type": "code",
      "source": [
        "perch_length = np.array(\n",
        "    [8.4, 13.7, 15.0, 16.2, 17.4, 18.0, 18.7, 19.0, 19.6, 20.0, \n",
        "     21.0, 21.0, 21.0, 21.3, 22.0, 22.0, 22.0, 22.0, 22.0, 22.5, \n",
        "     22.5, 22.7, 23.0, 23.5, 24.0, 24.0, 24.6, 25.0, 25.6, 26.5, \n",
        "     27.3, 27.5, 27.5, 27.5, 28.0, 28.7, 30.0, 32.8, 34.5, 35.0, \n",
        "     36.5, 36.0, 37.0, 37.0, 39.0, 39.0, 39.0, 40.0, 40.0, 40.0, \n",
        "     40.0, 42.0, 43.0, 43.0, 43.5, 44.0]\n",
        "     )\n",
        "perch_weight = np.array(\n",
        "    [5.9, 32.0, 40.0, 51.5, 70.0, 100.0, 78.0, 80.0, 85.0, 85.0, \n",
        "     110.0, 115.0, 125.0, 130.0, 120.0, 120.0, 130.0, 135.0, 110.0, \n",
        "     130.0, 150.0, 145.0, 150.0, 170.0, 225.0, 145.0, 188.0, 180.0, \n",
        "     197.0, 218.0, 300.0, 260.0, 265.0, 250.0, 250.0, 300.0, 320.0, \n",
        "     514.0, 556.0, 840.0, 685.0, 700.0, 700.0, 690.0, 900.0, 650.0, \n",
        "     820.0, 850.0, 900.0, 1015.0, 820.0, 1100.0, 1000.0, 1100.0, \n",
        "     1000.0, 1000.0]\n",
        "     )"
      ],
      "metadata": {
        "id": "6X3EmCMPICMF"
      },
      "execution_count": 2,
      "outputs": []
    },
    {
      "cell_type": "code",
      "execution_count": 3,
      "metadata": {
        "id": "_-kdD_qDqsoN"
      },
      "outputs": [],
      "source": [
        "class Rnn:\n",
        "  \"\"\"\n",
        "  순환 신경망의 계산\n",
        "  \"\"\"\n",
        "  # 입력 가중치\n",
        "  input_w = []\n",
        "\n",
        "  # 이전 출력에 대한 가중치\n",
        "  before_w = []\n",
        "\n",
        "  # 출력 가중치\n",
        "  result_w = []\n",
        "\n",
        "  # 편향 값 bais\n",
        "  bias = []\n",
        "\n",
        "  def cal_rnn(self, input, output, input_w = [], bias = []):\n",
        "    \"\"\"\n",
        "    순환 신경망 은닉층까지의 계산\n",
        "    args\n",
        "      input : 입력 데이터\n",
        "      output : 원하는 출력 형태\n",
        "    return \n",
        "      순환 신경망의 계산 결과\n",
        "    \"\"\"\n",
        "    # 이전 출력에 대한 입력, 첫 부분의 경우 이 값이 0이다.\n",
        "    before = np.zeros((output.shape[0], output.shape[1]))\n",
        "\n",
        "    # 이전 출력에 대한 가중치\n",
        "    before_w = np.random.rand(output.shape[0], output.shape[0])\n",
        "\n",
        "    self.before_w.append(before_w)\n",
        "\n",
        "    # 가중치 w의 생성, \n",
        "    if not input_w:\n",
        "      input_w = np.random.rand(output.shape[0], input.shape[0])\n",
        "    \n",
        "    if not bias:\n",
        "      bias = np.random.rand()\n",
        "\n",
        "    self.input_w.append(input_w)\n",
        "\n",
        "    self.bias.append(bias)\n",
        "\n",
        "    return (before_w @ before) + (input_w @ input) + bias\n",
        "\n",
        "  def cal_result(self, input, output, w = []):\n",
        "    \"\"\"\n",
        "    순환 신경망의 은닉층 출력에서 최종 결과값으로의 계산\n",
        "    args\n",
        "      input : 입력 데이터\n",
        "      output : 원하는 출력 형태\n",
        "    return \n",
        "      행렬 곱 연산 결과\n",
        "    \"\"\"\n",
        "    # 가중치 생성\n",
        "    if not w:\n",
        "      result_w = np.random.rand(output.shape[0], output.shape[0])\n",
        "\n",
        "    self.result_w.append(result_w)\n",
        "\n",
        "    return result_w @ input"
      ]
    },
    {
      "cell_type": "code",
      "source": [
        "class Activation:\n",
        "  \"\"\"\n",
        "  데이터의 활성화 함수 연산 결과를 얻기 위함\n",
        "  추가로 역전파 계산에 필요한 활성화 함수의 미분 함수\n",
        "  \"\"\"\n",
        "  # 활성화 함수\n",
        "  fx = 0\n",
        "  # 활성화 함수의 미분 함수\n",
        "  d_fx = 0\n",
        "\n",
        "  def sigmoid_fun(self, input):\n",
        "    \"\"\"\n",
        "    시그모이드 함수\n",
        "    자연 상수의 지수 함수를 사용한 0~1 사이의 값 출력\n",
        "    Args:\n",
        "      input : 입력값\n",
        "    Return:\n",
        "      0~1 사이의 값\n",
        "    \"\"\"\n",
        "    x = sympy.Symbol('x')\n",
        "    result = []\n",
        "\n",
        "    self.fx = 1/(1+np.e**(-x))\n",
        "\n",
        "    self.d_fx = sympy.diff(self.fx, x)\n",
        "\n",
        "    for i in range(input.shape[0]):\n",
        "      result.append(self.fx.subs([(x, input[i][0])]))\n",
        "\n",
        "    return np.array(result).reshape(-1, 1)\n",
        "\n",
        "  def d_sigmoid_fun(self, input):\n",
        "    \"\"\"\n",
        "    시그모이드 함수의 미분값, 노드의 출력이 입력된다.\n",
        "    arg\n",
        "      input : 입력값\n",
        "    return\n",
        "      시그모이드 미분 함수의 계산 값\n",
        "    \"\"\"\n",
        "    result = []\n",
        "\n",
        "    x = sympy.Symbol('x')\n",
        "\n",
        "    for i in range(input.shape[0]):\n",
        "      result.append(self.d_fx.subs([(x,input[i][0])]))\n",
        "\n",
        "    return np.array(result).reshape(-1, 1)"
      ],
      "metadata": {
        "id": "RmV7boqvUfXB"
      },
      "execution_count": 4,
      "outputs": []
    },
    {
      "cell_type": "code",
      "source": [
        "class Error:\n",
        "  \"\"\"\n",
        "  오차 함수와 오차 함수의 미분 함수를 얻을 수 있다.  \n",
        "  \"\"\"\n",
        "  # 오차 함수\n",
        "  fx = 0\n",
        "  \n",
        "  # 오차 함수의 미분값\n",
        "  d_fx = 0\n",
        "  \n",
        "  def RMSE(self, target, predict):\n",
        "    \"\"\"\n",
        "    일반적인 제곱 오차 함수\n",
        "    args:\n",
        "      target : 목표 변수\n",
        "      predict : 예측 변수\n",
        "    return:\n",
        "      제곱 오차 평균 값\n",
        "    \"\"\"\n",
        "    result = (predict - target)**2\n",
        "    self.result = np.mean(result)\n",
        "\n",
        "    t = sympy.Symbol('t')\n",
        "    y = sympy.Symbol('y')\n",
        "\n",
        "    self.fx = 1/2*((y-t)**2)\n",
        "\n",
        "    self.d_fx = sympy.diff(self.fx, y)\n",
        "\n",
        "    return self.result\n",
        "\n",
        "  def d_RMSE(self, target, predict):\n",
        "    \"\"\"\n",
        "    RMSE 의 미분 함수\n",
        "    args\n",
        "      target : 목표 변수\n",
        "      predict : 예측 변수\n",
        "    return:\n",
        "      미분 함수의 계산 값\n",
        "    \"\"\"\n",
        "    result = []\n",
        "\n",
        "    t = sympy.Symbol('t')\n",
        "    y = sympy.Symbol('y')\n",
        "\n",
        "    for i in range(target.shape[0]):\n",
        "      result.append(self.d_fx.subs([(t, target[i][0]), (y, predict[i][0])]))\n",
        "    \n",
        "    return np.array(result).reshape(-1, 1)\n"
      ],
      "metadata": {
        "id": "xCdI_XqApbCi"
      },
      "execution_count": 5,
      "outputs": []
    },
    {
      "cell_type": "code",
      "source": [
        "input = perch_length[:3].reshape(-1,1)"
      ],
      "metadata": {
        "id": "llAe7T0HM1zj"
      },
      "execution_count": 6,
      "outputs": []
    },
    {
      "cell_type": "code",
      "source": [
        "target = perch_length[:4].reshape(-1,1)"
      ],
      "metadata": {
        "id": "U2iTt79ktjP_"
      },
      "execution_count": 7,
      "outputs": []
    },
    {
      "cell_type": "code",
      "source": [
        "output = np.zeros((4,1))"
      ],
      "metadata": {
        "id": "TgQz1OEkNMKK"
      },
      "execution_count": 8,
      "outputs": []
    },
    {
      "cell_type": "code",
      "source": [
        "input.shape"
      ],
      "metadata": {
        "colab": {
          "base_uri": "https://localhost:8080/"
        },
        "id": "yLUnWwP9NUNT",
        "outputId": "8c02ba05-e38e-4d07-c8a0-1f9fddc52e34"
      },
      "execution_count": 9,
      "outputs": [
        {
          "output_type": "execute_result",
          "data": {
            "text/plain": [
              "(3, 1)"
            ]
          },
          "metadata": {},
          "execution_count": 9
        }
      ]
    },
    {
      "cell_type": "code",
      "source": [
        "output.shape"
      ],
      "metadata": {
        "colab": {
          "base_uri": "https://localhost:8080/"
        },
        "id": "VfEuissDNXfg",
        "outputId": "42158231-5309-4dc1-fd06-c33c3cdff419"
      },
      "execution_count": 10,
      "outputs": [
        {
          "output_type": "execute_result",
          "data": {
            "text/plain": [
              "(4, 1)"
            ]
          },
          "metadata": {},
          "execution_count": 10
        }
      ]
    },
    {
      "cell_type": "code",
      "source": [
        "rnn = Rnn()"
      ],
      "metadata": {
        "id": "k5_cQs5JM6gU"
      },
      "execution_count": 11,
      "outputs": []
    },
    {
      "cell_type": "code",
      "source": [
        "rnn_hidden_input = rnn.cal_rnn(input, output)\n",
        "rnn_hidden_input"
      ],
      "metadata": {
        "colab": {
          "base_uri": "https://localhost:8080/"
        },
        "id": "i_uykjRAM8am",
        "outputId": "14556dcd-3cee-4cd2-e43e-d055a6c9045e"
      },
      "execution_count": 12,
      "outputs": [
        {
          "output_type": "execute_result",
          "data": {
            "text/plain": [
              "array([[28.23363806],\n",
              "       [19.76318626],\n",
              "       [18.51853987],\n",
              "       [29.09123389]])"
            ]
          },
          "metadata": {},
          "execution_count": 12
        }
      ]
    },
    {
      "cell_type": "code",
      "source": [
        "act = Activation()"
      ],
      "metadata": {
        "id": "AWSiq6mWUgDb"
      },
      "execution_count": 13,
      "outputs": []
    },
    {
      "cell_type": "code",
      "source": [
        "rnn_hidden_output = act.sigmoid_fun(rnn_hidden_input)\n",
        "rnn_hidden_output"
      ],
      "metadata": {
        "colab": {
          "base_uri": "https://localhost:8080/"
        },
        "id": "GfGMvxEgUi_j",
        "outputId": "008cbf90-7469-434a-f00b-3aa1ee79b220"
      },
      "execution_count": 14,
      "outputs": [
        {
          "output_type": "execute_result",
          "data": {
            "text/plain": [
              "array([[0.999999999999453],\n",
              "       [0.999999997388096],\n",
              "       [0.999999990932234],\n",
              "       [0.999999999999768]], dtype=object)"
            ]
          },
          "metadata": {},
          "execution_count": 14
        }
      ]
    },
    {
      "cell_type": "code",
      "source": [
        "rnn_result = rnn.cal_result(rnn_hidden_output, output)\n",
        "rnn_result"
      ],
      "metadata": {
        "colab": {
          "base_uri": "https://localhost:8080/"
        },
        "id": "84tksF--UuoJ",
        "outputId": "9bfbeb1e-c832-44fe-f567-1c7812bed06a"
      },
      "execution_count": 15,
      "outputs": [
        {
          "output_type": "execute_result",
          "data": {
            "text/plain": [
              "array([[2.05354486281113],\n",
              "       [2.27257113816046],\n",
              "       [2.27612420071436],\n",
              "       [2.41479886422985]], dtype=object)"
            ]
          },
          "metadata": {},
          "execution_count": 15
        }
      ]
    },
    {
      "cell_type": "markdown",
      "source": [
        "델타 연산"
      ],
      "metadata": {
        "id": "oDSWaNjmr7Ty"
      }
    },
    {
      "cell_type": "markdown",
      "source": [
        "예측 노드의 델타,\n",
        "\n",
        "오차 함수의 미분값과 동일하다.(활성화 함수로 항등 함수를 사용했기 때문)"
      ],
      "metadata": {
        "id": "Zj4uGixAaDRV"
      }
    },
    {
      "cell_type": "code",
      "source": [
        "err = Error()"
      ],
      "metadata": {
        "id": "Xt2S52BXtKF7"
      },
      "execution_count": 16,
      "outputs": []
    },
    {
      "cell_type": "code",
      "source": [
        "result = err.RMSE(target, rnn_result)\n",
        "result"
      ],
      "metadata": {
        "id": "nk4F6D04X1Mi",
        "colab": {
          "base_uri": "https://localhost:8080/",
          "height": 37
        },
        "outputId": "a75cf5b5-02f6-4aa6-b563-88986ba11821"
      },
      "execution_count": 17,
      "outputs": [
        {
          "output_type": "execute_result",
          "data": {
            "text/plain": [
              "130.698102227510"
            ],
            "text/latex": "$\\displaystyle 130.69810222751$"
          },
          "metadata": {},
          "execution_count": 17
        }
      ]
    },
    {
      "cell_type": "code",
      "source": [
        "result_delta = err.d_RMSE(target, rnn_result)\n",
        "result_delta"
      ],
      "metadata": {
        "colab": {
          "base_uri": "https://localhost:8080/"
        },
        "id": "CCz4zT8maPdx",
        "outputId": "486ff997-0857-44ee-c5d6-2e87b1f1fffc"
      },
      "execution_count": 22,
      "outputs": [
        {
          "output_type": "execute_result",
          "data": {
            "text/plain": [
              "array([[-6.34645513718887],\n",
              "       [-11.4274288618395],\n",
              "       [-12.7238757992856],\n",
              "       [-13.7852011357702]], dtype=object)"
            ]
          },
          "metadata": {},
          "execution_count": 22
        }
      ]
    },
    {
      "cell_type": "markdown",
      "source": [
        "예측 노드의 델타를 사용한 result_w 값 업데이트"
      ],
      "metadata": {
        "id": "fkBGfLnltGpf"
      }
    },
    {
      "cell_type": "code",
      "source": [
        "rnn_hidden_output"
      ],
      "metadata": {
        "colab": {
          "base_uri": "https://localhost:8080/"
        },
        "id": "sO3cbRyh51lJ",
        "outputId": "20a825d6-3075-4154-af06-6cf43f9ca392"
      },
      "execution_count": 19,
      "outputs": [
        {
          "output_type": "execute_result",
          "data": {
            "text/plain": [
              "array([[0.999999999999453],\n",
              "       [0.999999997388096],\n",
              "       [0.999999990932234],\n",
              "       [0.999999999999768]], dtype=object)"
            ]
          },
          "metadata": {},
          "execution_count": 19
        }
      ]
    },
    {
      "cell_type": "code",
      "source": [
        "d_result_w = result_delta * rnn_hidden_output\n",
        "d_result_w"
      ],
      "metadata": {
        "colab": {
          "base_uri": "https://localhost:8080/"
        },
        "id": "Phm_AP8f5OMq",
        "outputId": "e46499ef-dd3f-486a-d714-5c875ef9c4de"
      },
      "execution_count": 23,
      "outputs": [
        {
          "output_type": "execute_result",
          "data": {
            "text/plain": [
              "array([[-6.34645513718540],\n",
              "       [-11.4274288319922],\n",
              "       [-12.7238756839085],\n",
              "       [-13.7852011357670]], dtype=object)"
            ]
          },
          "metadata": {},
          "execution_count": 23
        }
      ]
    }
  ]
}