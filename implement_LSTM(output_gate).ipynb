{
  "nbformat": 4,
  "nbformat_minor": 0,
  "metadata": {
    "colab": {
      "provenance": []
    },
    "kernelspec": {
      "name": "python3",
      "display_name": "Python 3"
    },
    "language_info": {
      "name": "python"
    }
  },
  "cells": [
    {
      "cell_type": "code",
      "source": [
        "import numpy as np\n",
        "import sympy"
      ],
      "metadata": {
        "id": "kzyAvyX7rGpj"
      },
      "execution_count": 1,
      "outputs": []
    },
    {
      "cell_type": "code",
      "source": [
        "perch_length = np.array(\n",
        "    [8.4, 13.7, 15.0, 16.2, 17.4, 18.0, 18.7, 19.0, 19.6, 20.0, \n",
        "     21.0, 21.0, 21.0, 21.3, 22.0, 22.0, 22.0, 22.0, 22.0, 22.5, \n",
        "     22.5, 22.7, 23.0, 23.5, 24.0, 24.0, 24.6, 25.0, 25.6, 26.5, \n",
        "     27.3, 27.5, 27.5, 27.5, 28.0, 28.7, 30.0, 32.8, 34.5, 35.0, \n",
        "     36.5, 36.0, 37.0, 37.0, 39.0, 39.0, 39.0, 40.0, 40.0, 40.0, \n",
        "     40.0, 42.0, 43.0, 43.0, 43.5, 44.0]\n",
        "     )\n",
        "perch_weight = np.array(\n",
        "    [5.9, 32.0, 40.0, 51.5, 70.0, 100.0, 78.0, 80.0, 85.0, 85.0, \n",
        "     110.0, 115.0, 125.0, 130.0, 120.0, 120.0, 130.0, 135.0, 110.0, \n",
        "     130.0, 150.0, 145.0, 150.0, 170.0, 225.0, 145.0, 188.0, 180.0, \n",
        "     197.0, 218.0, 300.0, 260.0, 265.0, 250.0, 250.0, 300.0, 320.0, \n",
        "     514.0, 556.0, 840.0, 685.0, 700.0, 700.0, 690.0, 900.0, 650.0, \n",
        "     820.0, 850.0, 900.0, 1015.0, 820.0, 1100.0, 1000.0, 1100.0, \n",
        "     1000.0, 1000.0]\n",
        "     )"
      ],
      "metadata": {
        "id": "6X3EmCMPICMF"
      },
      "execution_count": 2,
      "outputs": []
    },
    {
      "cell_type": "code",
      "source": [
        "class Activation:\n",
        "  \"\"\"\n",
        "  데이터의 활성화 함수 연산 결과를 얻기 위함\n",
        "  추가로 역전파 계산에 필요한 활성화 함수의 미분 함수\n",
        "  \"\"\"\n",
        "  # 활성화 함수\n",
        "  fx = 0\n",
        "  # 활성화 함수의 미분 함수\n",
        "  d_fx = 0\n",
        "\n",
        "  def sigmoid_fun(self, input):\n",
        "    \"\"\"\n",
        "    시그모이드 함수\n",
        "    자연 상수의 지수 함수를 사용한 0~1 사이의 값 출력\n",
        "    Args:\n",
        "      input : 입력값\n",
        "    Return:\n",
        "      0~1 사이의 값\n",
        "    \"\"\"\n",
        "    x = sympy.Symbol('x')\n",
        "    result = []\n",
        "\n",
        "    self.fx = 1/(1+np.e**(-x))\n",
        "\n",
        "    self.d_fx = sympy.diff(self.fx, x)\n",
        "\n",
        "    for i in range(input.shape[0]):\n",
        "      result.append(self.fx.subs([(x, input[i][0])]))\n",
        "\n",
        "    return np.array(result).reshape(-1, 1)\n",
        "\n",
        "  def d_sigmoid_fun(self, input):\n",
        "    \"\"\"\n",
        "    시그모이드 함수의 미분값, 노드의 출력이 입력된다.\n",
        "    arg\n",
        "      input : 입력값\n",
        "    return\n",
        "      시그모이드 미분 함수의 계산 값\n",
        "    \"\"\"\n",
        "    result = []\n",
        "\n",
        "    x = sympy.Symbol('x')\n",
        "\n",
        "    for i in range(input.shape[0]):\n",
        "      result.append(self.d_fx.subs([(x,input[i][0])]))\n",
        "\n",
        "    return np.array(result).reshape(-1, 1)"
      ],
      "metadata": {
        "id": "6In3iEf4fHze"
      },
      "execution_count": 3,
      "outputs": []
    },
    {
      "cell_type": "code",
      "source": [
        "class LSTM:\n",
        "  \"\"\"\n",
        "  LSTM 의 계산\n",
        "  \"\"\"\n",
        "  # i 를 생성하기 위한 가중치 \n",
        "  w_xi = []\n",
        "  w_hi = []\n",
        "  b_i = []\n",
        "\n",
        "  # g 를 생성하기 위한 가중치\n",
        "  w_xg = []\n",
        "  w_hg = []\n",
        "  b_g = []\n",
        "\n",
        "  # f 를 생성하기 위한 가중치\n",
        "  w_xf = []\n",
        "  w_hf = []\n",
        "  b_f = []\n",
        "\n",
        "  # o 를 생성하기 위한 가중치\n",
        "  w_xo = []\n",
        "  w_ho = []\n",
        "  b_o = []\n",
        "\n",
        "  def input_gate_i(self, input_x, input_h, output):\n",
        "    w_xi = np.random.rand(output.shape[0], input_x.shape[0])\n",
        "    w_hi = np.random.rand(output.shape[0], output.shape[1])\n",
        "    b_i = np.random.rand(output.shape[0],1)\n",
        "\n",
        "    self.w_xi.append(w_xi)\n",
        "    self.w_hi.append(w_hi)\n",
        "    self.b_i.append(b_i)\n",
        "\n",
        "    return w_xi@input_x + w_hi@input_h + b_i\n",
        "\n",
        "  def input_gate_g(self, input_x, input_h, output):\n",
        "    w_xg = np.random.rand(output.shape[0], input_x.shape[0])\n",
        "    w_hg = np.random.rand(output.shape[0], output.shape[1])\n",
        "    b_g = np.random.rand(output.shape[0],1)\n",
        "    \n",
        "    self.w_xg.append(w_xg)\n",
        "    self.w_hg.append(w_hg)\n",
        "    self.b_g.append(b_g)\n",
        "\n",
        "    return w_xg@input_x + w_hg@input_h + b_g\n",
        "\n",
        "  def input_gate(self, input_x, input_h, output):\n",
        "    lstm = LSTM()\n",
        "    activation = Activation()\n",
        "\n",
        "    i_t = lstm.input_gate_i(input_x, input_h, output)\n",
        "    g_t = lstm.input_gate_g(input_x, input_h, output)\n",
        "\n",
        "    activation_i = 2 * activation.sigmoid_fun(i_t) - 1\n",
        "    activation_g = activation.sigmoid_fun(g_t)\n",
        "    \n",
        "    return activation_i * activation_g\n",
        "\n",
        "  def forget_gate(self, input_x, input_h, output):\n",
        "    activation = Activation()\n",
        "\n",
        "    w_xf = np.random.rand(output.shape[0], input_x.shape[0])\n",
        "    w_hf = np.random.rand(output.shape[0], output.shape[1])\n",
        "    b_f = np.random.rand(output.shape[0],1)\n",
        "    \n",
        "    self.w_xf.append(w_xf)\n",
        "    self.w_hf.append(w_hf)\n",
        "    self.b_f.append(b_f)\n",
        "\n",
        "    hidden_input = w_xf@input_x + w_hf@input_h + b_f\n",
        "    \n",
        "    return activation.sigmoid_fun(hidden_input)\n",
        "\n",
        "  def output_gate(self, input_x, input_h, output):\n",
        "    activation = Activation()\n",
        "\n",
        "    w_xo = np.random.rand(output.shape[0], input_x.shape[0])\n",
        "    w_ho = np.random.rand(output.shape[0], output.shape[1])\n",
        "    b_o = np.random.rand(output.shape[0],1)\n",
        "    \n",
        "    self.w_xo.append(w_xo)\n",
        "    self.w_ho.append(w_ho)\n",
        "    self.b_o.append(b_o)\n",
        "\n",
        "    hidden_input = w_xo@input_x + w_ho@input_x + b_o\n",
        "    \n",
        "    return activation.sigmoid_fun(hidden_input)\n",
        "\n"
      ],
      "metadata": {
        "id": "gFm3SUaKXMfM"
      },
      "execution_count": 4,
      "outputs": []
    },
    {
      "cell_type": "code",
      "source": [
        "input = perch_length[:3].reshape(-1,1)"
      ],
      "metadata": {
        "id": "llAe7T0HM1zj"
      },
      "execution_count": 5,
      "outputs": []
    },
    {
      "cell_type": "code",
      "source": [
        "target = perch_length[:4].reshape(-1,1)"
      ],
      "metadata": {
        "id": "U2iTt79ktjP_"
      },
      "execution_count": 6,
      "outputs": []
    },
    {
      "cell_type": "code",
      "source": [
        "output = np.zeros((4,1))"
      ],
      "metadata": {
        "id": "TgQz1OEkNMKK"
      },
      "execution_count": 7,
      "outputs": []
    }
  ]
}