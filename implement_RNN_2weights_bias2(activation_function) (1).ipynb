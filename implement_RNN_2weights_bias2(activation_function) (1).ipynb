{
  "nbformat": 4,
  "nbformat_minor": 0,
  "metadata": {
    "colab": {
      "provenance": []
    },
    "kernelspec": {
      "name": "python3",
      "display_name": "Python 3"
    },
    "language_info": {
      "name": "python"
    }
  },
  "cells": [
    {
      "cell_type": "code",
      "source": [
        "import numpy as np"
      ],
      "metadata": {
        "id": "l12m8-hpJVEF"
      },
      "execution_count": 66,
      "outputs": []
    },
    {
      "cell_type": "code",
      "source": [
        "def generate_time_series(batch_size, n_steps):\n",
        "    freq1, freq2, offsets1, offsets2 = np.random.rand(4, batch_size, 1)\n",
        "    time = np.linspace(0, 1, n_steps)\n",
        "    series = 0.5 * np.sin((time - offsets1) * (freq1 * 10 + 10))  #   웨이브 1\n",
        "    series += 0.2 * np.sin((time - offsets2) * (freq2 * 20 + 20)) # + 웨이브 2\n",
        "    series += 0.1 * (np.random.rand(batch_size, n_steps) - 0.5)   # + 잡음\n",
        "    return series[..., np.newaxis].astype(np.float32)"
      ],
      "metadata": {
        "id": "_SBKypfVPcVo"
      },
      "execution_count": 67,
      "outputs": []
    },
    {
      "cell_type": "markdown",
      "source": [
        "batch_size 개수만큼의 시계열 데이터가 생성\n",
        "\n",
        "각 시계열 데이터는 n_steps 만큼의 데이터가 있고,\n",
        "\n",
        "앞선 n_steps - 1 개의 데이터를 통해 n_steps 번째의 데이터를 예측한다."
      ],
      "metadata": {
        "id": "vzmvofPETGdS"
      }
    },
    {
      "cell_type": "code",
      "source": [
        "np.random.seed(42)\n",
        "\n",
        "n_steps = 50\n",
        "series = generate_time_series(10000, n_steps + 1)\n",
        "X_train, y_train = series[:7000, :n_steps], series[:7000, -1]\n",
        "X_valid, y_valid = series[7000:9000, :n_steps], series[7000:9000, -1]\n",
        "X_test, y_test = series[9000:, :n_steps], series[9000:, -1]"
      ],
      "metadata": {
        "id": "wfOMndrQQEgT"
      },
      "execution_count": 68,
      "outputs": []
    },
    {
      "cell_type": "code",
      "source": [
        "X_train.shape"
      ],
      "metadata": {
        "colab": {
          "base_uri": "https://localhost:8080/"
        },
        "id": "R_Eox7LdQ48p",
        "outputId": "b0cbf94d-d1d0-4e63-99d8-019832758e01"
      },
      "execution_count": 69,
      "outputs": [
        {
          "output_type": "execute_result",
          "data": {
            "text/plain": [
              "(7000, 50, 1)"
            ]
          },
          "metadata": {},
          "execution_count": 69
        }
      ]
    },
    {
      "cell_type": "code",
      "source": [
        "X_train[0].shape"
      ],
      "metadata": {
        "colab": {
          "base_uri": "https://localhost:8080/"
        },
        "id": "KYIP9iTFRKV_",
        "outputId": "8d2bf185-b357-4bae-f569-bd40e980270d"
      },
      "execution_count": 70,
      "outputs": [
        {
          "output_type": "execute_result",
          "data": {
            "text/plain": [
              "(50, 1)"
            ]
          },
          "metadata": {},
          "execution_count": 70
        }
      ]
    },
    {
      "cell_type": "code",
      "source": [
        "y_train.shape"
      ],
      "metadata": {
        "colab": {
          "base_uri": "https://localhost:8080/"
        },
        "id": "0mninr1wRFbE",
        "outputId": "303df105-96b9-4065-a31a-82156981785f"
      },
      "execution_count": 71,
      "outputs": [
        {
          "output_type": "execute_result",
          "data": {
            "text/plain": [
              "(7000, 1)"
            ]
          },
          "metadata": {},
          "execution_count": 71
        }
      ]
    },
    {
      "cell_type": "code",
      "execution_count": 72,
      "metadata": {
        "id": "GMWSqGgcJP_p"
      },
      "outputs": [],
      "source": [
        "# 활성화 함수\n",
        "class activation_function:\n",
        "  # 시그모이드 함수\n",
        "  def sigmoid(self, x):\n",
        "    return 1 / (1+np.e**-x)\n",
        "  \n",
        "  # 시그모이드 함수의 미분 함수\n",
        "  def sigmoid_diff(self, x):\n",
        "    return x * (1 - x)\n",
        "\n",
        "  # 값을 그대로 출력하는 함수\n",
        "  def non(self, x):\n",
        "    return x\n",
        "  \n",
        "  def non_diff(self, x):\n",
        "    return 1"
      ]
    },
    {
      "cell_type": "code",
      "source": [
        "# 비용 함수 클래스, 비용 함수의 종류에 따라 다른 클래스 내 함수를 사용한다.\n",
        "class cost_function:\n",
        "  # 예측값\n",
        "  predict = []\n",
        "  # 타겟값\n",
        "  target = []\n",
        "  # 비용 함수값\n",
        "  error_cost = []\n",
        "\n",
        "  # 오차 제곱합\n",
        "  def errer_squared_sum(self, predict, target):\n",
        "    self.predict = predict\n",
        "    self.target = target\n",
        "\n",
        "    self.error_cost = np.sum(0.5*((predict - target)**2))\n",
        "    return self.error_cost\n",
        "\n",
        "  # 오차 제곱합 미분 함수\n",
        "  def diff_error_squared_sum(self):\n",
        "    return (self.predict[0][0] - self.target[0][0])"
      ],
      "metadata": {
        "id": "Pc9UQa7iEF-E"
      },
      "execution_count": 73,
      "outputs": []
    },
    {
      "cell_type": "code",
      "execution_count": 74,
      "metadata": {
        "id": "mbFrbXEwCsXo"
      },
      "outputs": [],
      "source": [
        "class RNN_vector_to_sequence:\n",
        "    #입력값\n",
        "    input_data = []\n",
        "    \n",
        "    #가중치\n",
        "    weight = []\n",
        "    \n",
        "    #편향값\n",
        "    bias = []\n",
        "\n",
        "    # 입력 가중치\n",
        "    input_w = []\n",
        "\n",
        "    # 이전 출력에 대한 가중치\n",
        "    before_w = []\n",
        "\n",
        "    # 편향 값 bais\n",
        "    bias = []\n",
        "\n",
        "    # 노드 입력\n",
        "    node_input = []\n",
        "\n",
        "    # 노드 출력\n",
        "    node_output = []\n",
        "\n",
        "    # 타겟, 목푯값\n",
        "    target = []\n",
        "\n",
        "    # 활성화 함수\n",
        "    activation = activation_function()\n",
        "\n",
        "    # 비용 함수\n",
        "    cost = cost_function()\n",
        "\n",
        "    # 예측 결과\n",
        "    predict = []\n",
        "\n",
        "    # 비용 함수값\n",
        "    cost_reuslt = []\n",
        "\n",
        "    # 각 층의 델타 값의 저장\n",
        "    delta = []\n",
        "\n",
        "     # 각 가중치 업데이트 크기\n",
        "    input_weight_update = []\n",
        "\n",
        "    before_weight_update = []\n",
        "\n",
        "    bias_update = []\n",
        "\n",
        "    #초기 학습, 임의의 가중치가 생성된다.\n",
        "    def delta_to_sequence_cal_rnn_test(self, input, target):\n",
        "\n",
        "      # 타겟값의 저장\n",
        "      self.target = target\n",
        "\n",
        "      # 입력 데이터의 저장\n",
        "      self.input = input\n",
        "\n",
        "      # 입력 데이터 크기에 맞는 가중치 값이 생성되어야 한다.\n",
        "      # 입력 (3,1) 데이터에 대한 연산 결과 (1,1)를 예측한다고 가정,\n",
        "\n",
        "      # 입력값에 사용되는 가중치\n",
        "      # (3,1) 크기의 입력 데이터에 대해 (1,1) 의 행렬곱 연산 결과를 얻기 위해, (1,3) 크기의 가중치 행렬이 필요하다\n",
        "      self.input_w = np.random.rand(target.shape[0], input.shape[1])\n",
        "      \n",
        "      # 이전 출력에 대한 가중치\n",
        "      # (1,1) 노드 출력에 대해 (1,1) 의 행렬곱 연산 결과를 얻기 위한, (1,1) 크기의 가중치 행렬\n",
        "      self.before_w = np.random.rand(target.shape[0], target.shape[0])\n",
        "\n",
        "      # bias 값 생성, (1,1) 행렬에 더해지기 위한 (1,1) 크기의 bias 값 생성\n",
        "      self.bias = np.random.rand(target.shape[0], target.shape[0])\n",
        "\n",
        "      # 이전 노드의 출력, 첫 부분의 경우 이 값이 0이다. 행렬의 크기는 (1,1)\n",
        "      before = np.zeros((target.shape[0], target.shape[0]))\n",
        "\n",
        "      # (3, n) 크기의 입력 데이터에서 n 번의 반복을 수행하게 됨\n",
        "      for i in range(input.shape[0]):\n",
        "        # 노드 입력 데이터의 numpy 행렬 생성\n",
        "        input_data = input[i].reshape(input.shape[1],-1)\n",
        "\n",
        "        # RNN 노드 입력 값 계산, 이전 노드 출력 @ 가중치 + 입력 데이터 @ 가중치\n",
        "        node_input = (self.before_w @ before) + (self.input_w @ input_data) + self.bias\n",
        "        self.node_input.append(node_input)\n",
        "\n",
        "        # 노드 출력 계산, 활성화 함수 연산을 수행한다.\n",
        "        node_output = self.activation.non(node_input)\n",
        "        self.node_output.append(node_output)\n",
        "\n",
        "        # 타입 스텝의 출력이 다음 노드의 입력이 된다.\n",
        "        before = node_output\n",
        "\n",
        "      self.predict = node_output\n",
        "\n",
        "      self.cost_result = self.cost_cal()\n",
        "\n",
        "      return self.predict, self.cost_result\n",
        "\n",
        "    def cost_cal(self):\n",
        "      return self.cost.errer_squared_sum(self.predict, self.target)\n",
        "\n",
        "    def update_weight(self, learning_rate):\n",
        "      # 원활한 연산을 위해 마지막 노드부터 거꾸로 계산된 delta 값을 뒤집어준다.\n",
        "      self.delta = self.delta[::-1]\n",
        "\n",
        "      result_input = 0\n",
        "\n",
        "      result_before = 0\n",
        "\n",
        "      result_bias = 0\n",
        "\n",
        "      # 해당 delta 값과의 데이터 입력값을 통해 input_w 의 가중치 변화량을 계산할 수 있다\n",
        "      for i in range(self.input.shape[0]):\n",
        "        result_input = result_input + self.delta[i] * self.node_input[i]\n",
        "\n",
        "        result_before = result_before + self.delta[i] * self.input[i]\n",
        "\n",
        "        result_bias = result_bias + self.delta[i]\n",
        "\n",
        "      self.input_weight_update = result_input\n",
        "      \n",
        "      self.before_weight_update = result_before\n",
        "\n",
        "      self.bias_update = result_bias\n",
        "\n",
        "      # 가중치 업데이트\n",
        "      self.input_w = self.input_w - (self.input_weight_update * learning_rate)\n",
        "\n",
        "      self.before_w = self.before_w - (self.before_weight_update * learning_rate)\n",
        "\n",
        "      self.bias = self.bias - (self.bias_update * learning_rate)\n",
        "\n",
        "    def iterations(self, iterations, learning_rate):\n",
        "      # j 번의 학습\n",
        "      for j in range(iterations):\n",
        "        # 초기화\n",
        "        self.node_input = []\n",
        "        self.node_output = []\n",
        "        self.delta = []\n",
        "\n",
        "        # 이전 노드의 출력, 첫 부분의 경우 이 값이 0이다. 행렬의 크기는 (1,1)\n",
        "        before = np.zeros((self.target.shape[0], self.target.shape[0]))\n",
        "\n",
        "        for i in range(input.shape[0]):\n",
        "          # 노드 입력 데이터의 numpy 행렬 생성\n",
        "          input_data = input[i].reshape(input.shape[1],-1)\n",
        "\n",
        "          # RNN 노드 입력 값 계산, 이전 노드 출력 @ 가중치 + 입력 데이터 @ 가중치 + bias\n",
        "          # 업데이트된 가중치, 편향값으로 계산이 이뤄진다.\n",
        "          node_input = (self.before_w @ before) + (self.input_w @ input_data) + self.bias\n",
        "          self.node_input.append(node_input)\n",
        "\n",
        "          # 노드 출력 계산, 활성화 함수 연산을 수행한다.\n",
        "          node_output = self.activation.non(node_input)\n",
        "          self.node_output.append(node_output)\n",
        "\n",
        "          # 순환 노드의 다음 노드 입력값\n",
        "          before = node_output\n",
        "\n",
        "        # 매 학습마다 예측값이 달라짐\n",
        "        self.predict = before\n",
        "\n",
        "        # 예측값에 따른 비용 함숫값 계산\n",
        "        self.cost_result = self.cost_cal()\n",
        "\n",
        "        print(self.cost_cal())\n",
        "\n",
        "        # 각 노드별 비용 함수의 변화량 계산\n",
        "        self.cal_delta()\n",
        "\n",
        "        # 계산한 delta 값을 통해 가중치 값 갱신\n",
        "        self.update_weight(learning_rate)\n",
        "\n",
        "    def cal_delta(self):\n",
        "      self.delta = []\n",
        "      #마지막 노드의 변화량에 대한 오차 함수의 변화량 계산\n",
        "      #delta = (self.cost.diff_error_squared_sum() * self.activation.non_diff(self.predict))\n",
        "      delta = (self.cost.diff_error_squared_sum() * self.activation.non_diff(self.node_output[len(self.node_output) - 1]))\n",
        "      self.delta.append(delta)\n",
        "\n",
        "      # n-1 개의 delta 값을 계산하기 위한 반복\n",
        "      for i in range(input.shape[0] - 1, 0, -1):\n",
        "        # 노드 출력의 변화에 대한 비용 함수의 변화량 계산\n",
        "        delta = self.before_w * delta\n",
        "\n",
        "        # 활성화 함수에 따른 변화량 계산, 해당 값이 노드 변화에 대한 비용 함수의 변화량이 된다.\n",
        "        delta = delta * self.activation.non_diff(self.node_output[i])\n",
        "\n",
        "        # 노드별 delta 값의 저장\n",
        "        self.delta.append(delta)\n",
        "\n"
      ]
    },
    {
      "cell_type": "code",
      "source": [
        "rnn = RNN_vector_to_sequence()"
      ],
      "metadata": {
        "id": "b1i1bIqgUUPB"
      },
      "execution_count": 75,
      "outputs": []
    },
    {
      "cell_type": "code",
      "source": [
        "input = X_train[0]"
      ],
      "metadata": {
        "id": "UVrhsFWLWHsy"
      },
      "execution_count": 76,
      "outputs": []
    },
    {
      "cell_type": "code",
      "source": [
        "target = y_train[0].reshape(1,-1)"
      ],
      "metadata": {
        "id": "qiqGPJf8WKxA"
      },
      "execution_count": 77,
      "outputs": []
    },
    {
      "cell_type": "code",
      "source": [
        "target"
      ],
      "metadata": {
        "colab": {
          "base_uri": "https://localhost:8080/"
        },
        "id": "x9clt1oLbO37",
        "outputId": "4ff8157c-34af-4ef7-fb86-d47036f770dd"
      },
      "execution_count": 78,
      "outputs": [
        {
          "output_type": "execute_result",
          "data": {
            "text/plain": [
              "array([[-0.35489398]], dtype=float32)"
            ]
          },
          "metadata": {},
          "execution_count": 78
        }
      ]
    },
    {
      "cell_type": "code",
      "source": [
        "rnn.delta_to_sequence_cal_rnn_test(input, target)"
      ],
      "metadata": {
        "colab": {
          "base_uri": "https://localhost:8080/"
        },
        "id": "5itVTWd_UY23",
        "outputId": "88c73a44-8616-45ca-ddb5-59cd183110ab"
      },
      "execution_count": 79,
      "outputs": [
        {
          "output_type": "execute_result",
          "data": {
            "text/plain": [
              "(array([[1.57795929]]), 1.867960879028231)"
            ]
          },
          "metadata": {},
          "execution_count": 79
        }
      ]
    },
    {
      "cell_type": "code",
      "source": [
        "print(rnn.input_w, rnn.before_w, rnn.bias)"
      ],
      "metadata": {
        "colab": {
          "base_uri": "https://localhost:8080/"
        },
        "id": "ukwZL5DXZpXD",
        "outputId": "96a749df-48d0-48e4-b6ea-81e2f163b93a"
      },
      "execution_count": 80,
      "outputs": [
        {
          "output_type": "stream",
          "name": "stdout",
          "text": [
            "[[0.53680354]] [[0.45702764]] [[0.84214604]]\n"
          ]
        }
      ]
    },
    {
      "cell_type": "code",
      "source": [
        "rnn.cal_delta()"
      ],
      "metadata": {
        "id": "pBU7OwONZtmg"
      },
      "execution_count": 81,
      "outputs": []
    },
    {
      "cell_type": "code",
      "source": [
        "rnn.update_weight(0.01)"
      ],
      "metadata": {
        "id": "aIGKluZYekfw"
      },
      "execution_count": 82,
      "outputs": []
    },
    {
      "cell_type": "code",
      "source": [
        "print(rnn.input_weight_update, rnn.before_weight_update, rnn.bias_update)"
      ],
      "metadata": {
        "colab": {
          "base_uri": "https://localhost:8080/"
        },
        "id": "JAYGi_nng_t5",
        "outputId": "7b33f638-a468-4baf-908b-844f0fcdcf9f"
      },
      "execution_count": 83,
      "outputs": [
        {
          "output_type": "stream",
          "name": "stdout",
          "text": [
            "[[6.0962773]] [[0.09709869]] [[3.55976362]]\n"
          ]
        }
      ]
    },
    {
      "cell_type": "code",
      "source": [
        "rnn.iterations(100, 0.01)"
      ],
      "metadata": {
        "colab": {
          "base_uri": "https://localhost:8080/"
        },
        "id": "40ZJahvojk2-",
        "outputId": "55550f25-4433-4154-84f5-4eb57eadaaf3"
      },
      "execution_count": 84,
      "outputs": [
        {
          "output_type": "stream",
          "name": "stdout",
          "text": [
            "1.73179085461459\n",
            "1.6067607711006486\n",
            "1.49179330634851\n",
            "1.3859389478963788\n",
            "1.2883573833162305\n",
            "1.198302120081547\n",
            "1.1151076928027817\n",
            "1.038178947039736\n",
            "0.9669820247324957\n",
            "0.9010367256875604\n",
            "0.8399100065512232\n",
            "0.7832104235703583\n",
            "0.7305833546236293\n",
            "0.6817068756371395\n",
            "0.6362881889148133\n",
            "0.5940605132992136\n",
            "0.5547803702630245\n",
            "0.5182252039916695\n",
            "0.48419129034720704\n",
            "0.4524918908767738\n",
            "0.4229556207044987\n",
            "0.3954250000775542\n",
            "0.36975516574434775\n",
            "0.3458127213748758\n",
            "0.32347471041387005\n",
            "0.30262769482617835\n",
            "0.28316692809684346\n",
            "0.2649956108580792\n",
            "0.24802421975604574\n",
            "0.23216990093474452\n",
            "0.21735592100392923\n",
            "0.2035111696176989\n",
            "0.19056970758403433\n",
            "0.17847035582866527\n",
            "0.16715632119660784\n",
            "0.15657485511102448\n",
            "0.14667694181537363\n",
            "0.13741701340256135\n",
            "0.12875268890809138\n",
            "0.12064453517240625\n",
            "0.11305584751716956\n",
            "0.1059524482709149\n",
            "0.09930250158707764\n",
            "0.09307634306348303\n",
            "0.08724632283616017\n",
            "0.08178666096422824\n",
            "0.07667331404234747\n",
            "0.07188385207015789\n",
            "0.06739734471338833\n",
            "0.06319425616394837\n",
            "0.05925634789568706\n",
            "0.055566588645161154\n",
            "0.0521090710630146\n",
            "0.04886893446615726\n",
            "0.04583229322610842\n",
            "0.04298617034348849\n",
            "0.04031843580294003\n",
            "0.03781774932637097\n",
            "0.03547350720971173\n",
            "0.03327579290920981\n",
            "0.031215331105941622\n",
            "0.02928344498527693\n",
            "0.027472016485697942\n",
            "0.025773449314840612\n",
            "0.024180634491086494\n",
            "0.02268691827868669\n",
            "0.021286072296521512\n",
            "0.019972265669474663\n",
            "0.0187400390674466\n",
            "0.01758428050031206\n",
            "0.01650020273988008\n",
            "0.015483322259883726\n",
            "0.014529439577341003\n",
            "0.013634620914616062\n",
            "0.012795181067661808\n",
            "0.01200766742364772\n",
            "0.011268845019592397\n",
            "0.010575682594028368\n",
            "0.009925339552892773\n",
            "0.009315153792700797\n",
            "0.008742630309912612\n",
            "0.008205430564073024\n",
            "0.007701362530929863\n",
            "0.007228371392134038\n",
            "0.006784530840932894\n",
            "0.006368034940922902\n",
            "0.005977190513182504\n",
            "0.0056104100131816725\n",
            "0.005266204866226374\n",
            "0.004943179230091124\n",
            "0.004640024157832941\n",
            "0.004355512129938093\n",
            "0.004088491942929458\n",
            "0.0038378839163945235\n",
            "0.0036026754102895316\n",
            "0.0033819166244338727\n",
            "0.0031747166658001817\n",
            "0.0029802398639591473\n",
            "0.0027977023209275484\n",
            "0.0026263686797589622\n"
          ]
        }
      ]
    },
    {
      "cell_type": "code",
      "source": [
        "print(rnn.predict, rnn.target)"
      ],
      "metadata": {
        "colab": {
          "base_uri": "https://localhost:8080/"
        },
        "id": "enlwE36Wj2kt",
        "outputId": "809920a2-22e4-4096-c2b4-a0ffea150734"
      },
      "execution_count": 86,
      "outputs": [
        {
          "output_type": "stream",
          "name": "stdout",
          "text": [
            "[[-0.28241821]] [[-0.35489398]]\n"
          ]
        }
      ]
    },
    {
      "cell_type": "code",
      "source": [],
      "metadata": {
        "id": "HjancqvIkMZy"
      },
      "execution_count": null,
      "outputs": []
    }
  ]
}