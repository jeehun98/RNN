{
  "nbformat": 4,
  "nbformat_minor": 0,
  "metadata": {
    "colab": {
      "provenance": []
    },
    "kernelspec": {
      "name": "python3",
      "display_name": "Python 3"
    },
    "language_info": {
      "name": "python"
    }
  },
  "cells": [
    {
      "cell_type": "code",
      "execution_count": 1,
      "metadata": {
        "id": "BLjqltTcwNYU"
      },
      "outputs": [],
      "source": [
        "import numpy as np"
      ]
    },
    {
      "cell_type": "code",
      "source": [
        "from tensorflow.keras.datasets import imdb\n",
        "(train_input, train_target), (test_input, test_target) = imdb.load_data(num_words=500)"
      ],
      "metadata": {
        "colab": {
          "base_uri": "https://localhost:8080/"
        },
        "id": "mocBGdqhLi1a",
        "outputId": "f1714b6e-cecc-4d0d-98ac-398c180fe668"
      },
      "execution_count": 4,
      "outputs": [
        {
          "output_type": "stream",
          "name": "stdout",
          "text": [
            "Downloading data from https://storage.googleapis.com/tensorflow/tf-keras-datasets/imdb.npz\n",
            "17464789/17464789 [==============================] - 0s 0us/step\n"
          ]
        }
      ]
    },
    {
      "cell_type": "code",
      "source": [
        "# 활성화 함수\n",
        "class activation_function:\n",
        "  # 시그모이드 함수\n",
        "  def sigmoid(self, x):\n",
        "    return 1 / (1+np.e**-x)\n",
        "  \n",
        "  # 시그모이드 함수의 미분 함수\n",
        "  def sigmoid_diff(self, x):\n",
        "    return x * (1 - x)"
      ],
      "metadata": {
        "id": "yxIZFFqwRYtD"
      },
      "execution_count": 6,
      "outputs": []
    },
    {
      "cell_type": "code",
      "source": [
        "class RNN:\n",
        "  \"\"\"\n",
        "  순환 신경망의 계산\n",
        "  \"\"\"\n",
        "  # 입력 가중치\n",
        "  input_w = []\n",
        "\n",
        "  # 이전 출력에 대한 가중치\n",
        "  before_w = []\n",
        "\n",
        "  # 출력 가중치\n",
        "  result_w = []\n",
        "\n",
        "  # 편향 값 bais\n",
        "  bias = []\n",
        "\n",
        "  # 노드 입력\n",
        "  node_input = []\n",
        "\n",
        "  # 노드 출력\n",
        "  node_output = []\n",
        "\n",
        "  #활성화 함수\n",
        "  activation = activation_function()\n",
        "\n",
        "  def cal_rnn(self, input, target, input_w, before_w, result_w, bias):\n",
        "    \n",
        "    self.input_w = input_w\n",
        "    self.before_w = before_w\n",
        "    self.result_w = result_w\n",
        "\n",
        "    # 이전 노드의 출력, 첫 부분의 경우 이 값이 0이다.\n",
        "    before = np.zeros((target.shape[0], target.shape[1]))\n",
        "\n",
        "    # 노드 입력 계산\n",
        "    node_input = (before_w @ before) + (input_w @ input) + bias\n",
        "    self.node_input.append(node_input)\n",
        "\n",
        "    # 노드 출력 계산\n",
        "    node_output = self.activation.sigmoid(node_input)\n",
        "    self.node_output.append(node_output)\n",
        "\n",
        "    print(node_input, node_output)\n",
        "\n"
      ],
      "metadata": {
        "id": "LCFk7YH-Porc"
      },
      "execution_count": 8,
      "outputs": []
    },
    {
      "cell_type": "code",
      "source": [],
      "metadata": {
        "id": "Y--Qj4FARuo3"
      },
      "execution_count": null,
      "outputs": []
    }
  ]
}