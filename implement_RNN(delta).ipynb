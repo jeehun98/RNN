{
  "nbformat": 4,
  "nbformat_minor": 0,
  "metadata": {
    "colab": {
      "provenance": []
    },
    "kernelspec": {
      "name": "python3",
      "display_name": "Python 3"
    },
    "language_info": {
      "name": "python"
    }
  },
  "cells": [
    {
      "cell_type": "code",
      "source": [
        "import numpy as np\n",
        "import sympy"
      ],
      "metadata": {
        "id": "kzyAvyX7rGpj"
      },
      "execution_count": 91,
      "outputs": []
    },
    {
      "cell_type": "code",
      "source": [
        "perch_length = np.array(\n",
        "    [8.4, 13.7, 15.0, 16.2, 17.4, 18.0, 18.7, 19.0, 19.6, 20.0, \n",
        "     21.0, 21.0, 21.0, 21.3, 22.0, 22.0, 22.0, 22.0, 22.0, 22.5, \n",
        "     22.5, 22.7, 23.0, 23.5, 24.0, 24.0, 24.6, 25.0, 25.6, 26.5, \n",
        "     27.3, 27.5, 27.5, 27.5, 28.0, 28.7, 30.0, 32.8, 34.5, 35.0, \n",
        "     36.5, 36.0, 37.0, 37.0, 39.0, 39.0, 39.0, 40.0, 40.0, 40.0, \n",
        "     40.0, 42.0, 43.0, 43.0, 43.5, 44.0]\n",
        "     )\n",
        "perch_weight = np.array(\n",
        "    [5.9, 32.0, 40.0, 51.5, 70.0, 100.0, 78.0, 80.0, 85.0, 85.0, \n",
        "     110.0, 115.0, 125.0, 130.0, 120.0, 120.0, 130.0, 135.0, 110.0, \n",
        "     130.0, 150.0, 145.0, 150.0, 170.0, 225.0, 145.0, 188.0, 180.0, \n",
        "     197.0, 218.0, 300.0, 260.0, 265.0, 250.0, 250.0, 300.0, 320.0, \n",
        "     514.0, 556.0, 840.0, 685.0, 700.0, 700.0, 690.0, 900.0, 650.0, \n",
        "     820.0, 850.0, 900.0, 1015.0, 820.0, 1100.0, 1000.0, 1100.0, \n",
        "     1000.0, 1000.0]\n",
        "     )"
      ],
      "metadata": {
        "id": "6X3EmCMPICMF"
      },
      "execution_count": 92,
      "outputs": []
    },
    {
      "cell_type": "code",
      "execution_count": 93,
      "metadata": {
        "id": "_-kdD_qDqsoN"
      },
      "outputs": [],
      "source": [
        "class Rnn:\n",
        "  \"\"\"\n",
        "  순환 신경망의 계산\n",
        "  \"\"\"\n",
        "  # 입력 가중치\n",
        "  input_w = []\n",
        "\n",
        "  # 이전 출력에 대한 가중치\n",
        "  before_w = []\n",
        "\n",
        "  # 출력 가중치\n",
        "  result_w = []\n",
        "\n",
        "  # 편향 값 bais\n",
        "  bias = []\n",
        "\n",
        "  def cal_rnn(self, input, output, input_w = [], bias = []):\n",
        "    \"\"\"\n",
        "    순환 신경망 은닉층까지의 계산\n",
        "    args\n",
        "      input : 입력 데이터\n",
        "      output : 원하는 출력 형태\n",
        "    return \n",
        "      순환 신경망의 계산 결과\n",
        "    \"\"\"\n",
        "    # 이전 출력에 대한 입력, 첫 부분의 경우 이 값이 0이다.\n",
        "    before = np.zeros((output.shape[0], output.shape[1]))\n",
        "\n",
        "    # 이전 출력에 대한 가중치\n",
        "    before_w = np.random.rand(output.shape[0], output.shape[0])\n",
        "\n",
        "    self.before_w.append(before_w)\n",
        "\n",
        "    # 가중치 w의 생성, \n",
        "    if not input_w:\n",
        "      input_w = np.random.rand(output.shape[0], input.shape[0])\n",
        "    \n",
        "    if not bias:\n",
        "      bias = np.random.rand()\n",
        "\n",
        "    self.input_w.append(input_w)\n",
        "\n",
        "    self.bias.append(bias)\n",
        "\n",
        "    return (before_w @ before) + (input_w @ input) + bias\n",
        "\n",
        "  def cal_result(self, input, output, w = []):\n",
        "    \"\"\"\n",
        "    순환 신경망의 은닉층 출력에서 최종 결과값으로의 계산\n",
        "    args\n",
        "      input : 입력 데이터\n",
        "      output : 원하는 출력 형태\n",
        "    return \n",
        "      행렬 곱 연산 결과\n",
        "    \"\"\"\n",
        "    # 가중치 생성\n",
        "    if not w:\n",
        "      result_w = np.random.rand(output.shape[0], output.shape[0])\n",
        "\n",
        "    self.result_w.append(result_w)\n",
        "\n",
        "    return result_w @ input"
      ]
    },
    {
      "cell_type": "code",
      "source": [
        "class Activation:\n",
        "  \"\"\"\n",
        "  데이터의 활성화 함수 연산 결과를 얻기 위함\n",
        "  추가로 역전파 계산에 필요한 활성화 함수의 미분 함수\n",
        "  \"\"\"\n",
        "  # 활성화 함수\n",
        "  fx = 0\n",
        "  # 활성화 함수의 미분 함수\n",
        "  d_fx = 0\n",
        "\n",
        "  def sigmoid_fun(self, input):\n",
        "    \"\"\"\n",
        "    시그모이드 함수\n",
        "    자연 상수의 지수 함수를 사용한 0~1 사이의 값 출력\n",
        "    Args:\n",
        "      input : 입력값\n",
        "    Return:\n",
        "      0~1 사이의 값\n",
        "    \"\"\"\n",
        "    x = sympy.Symbol('x')\n",
        "    result = []\n",
        "\n",
        "    self.fx = 1/(1+np.e**(-x))\n",
        "\n",
        "    self.d_fx = sympy.diff(self.fx, x)\n",
        "\n",
        "    for i in range(input.shape[0]):\n",
        "      result.append(self.fx.subs([(x, input[i][0])]))\n",
        "\n",
        "    return np.array(result).reshape(-1, 1)\n",
        "\n",
        "  def d_sigmoid_fun(self, input):\n",
        "    \"\"\"\n",
        "    시그모이드 함수의 미분값, 노드의 출력이 입력된다.\n",
        "    arg\n",
        "      input : 입력값\n",
        "    return\n",
        "      시그모이드 미분 함수의 계산 값\n",
        "    \"\"\"\n",
        "    result = []\n",
        "\n",
        "    x = sympy.Symbol('x')\n",
        "\n",
        "    for i in range(input.shape[0]):\n",
        "      result.append(self.d_fx.subs([(x,input[i][0])]))\n",
        "\n",
        "    return np.array(result).reshape(-1, 1)"
      ],
      "metadata": {
        "id": "RmV7boqvUfXB"
      },
      "execution_count": 94,
      "outputs": []
    },
    {
      "cell_type": "code",
      "source": [
        "class Error:\n",
        "  \"\"\"\n",
        "  오차 함수와 오차 함수의 미분 함수를 얻을 수 있다.  \n",
        "  \"\"\"\n",
        "  # 오차 함수\n",
        "  fx = 0\n",
        "  \n",
        "  # 오차 함수의 미분값\n",
        "  d_fx = 0\n",
        "  \n",
        "  def RMSE(self, target, predict):\n",
        "    \"\"\"\n",
        "    일반적인 제곱 오차 함수\n",
        "    args:\n",
        "      target : 목표 변수\n",
        "      predict : 예측 변수\n",
        "    return:\n",
        "      제곱 오차 평균 값\n",
        "    \"\"\"\n",
        "    result = (predict - target)**2\n",
        "    self.result = np.mean(result)\n",
        "\n",
        "    t = sympy.Symbol('t')\n",
        "    y = sympy.Symbol('y')\n",
        "\n",
        "    self.fx = 1/2*((y-t)**2)\n",
        "\n",
        "    self.d_fx = sympy.diff(self.fx, y)\n",
        "\n",
        "    return self.result\n",
        "\n",
        "  def d_RMSE(self, target, predict):\n",
        "    \"\"\"\n",
        "    RMSE 의 미분 함수\n",
        "    args\n",
        "      target : 목표 변수\n",
        "      predict : 예측 변수\n",
        "    return:\n",
        "      미분 함수의 계산 값\n",
        "    \"\"\"\n",
        "    result = []\n",
        "\n",
        "    t = sympy.Symbol('t')\n",
        "    y = sympy.Symbol('y')\n",
        "\n",
        "    for i in range(target.shape[0]):\n",
        "      result.append(self.d_fx.subs([(t, target[i][0]), (y, predict[i][0])]))\n",
        "    \n",
        "    return np.array(result).reshape(-1, 1)\n"
      ],
      "metadata": {
        "id": "xCdI_XqApbCi"
      },
      "execution_count": 95,
      "outputs": []
    },
    {
      "cell_type": "code",
      "source": [
        "input = perch_length[:3].reshape(-1,1)"
      ],
      "metadata": {
        "id": "llAe7T0HM1zj"
      },
      "execution_count": 96,
      "outputs": []
    },
    {
      "cell_type": "code",
      "source": [
        "target = perch_length[:4].reshape(-1,1)"
      ],
      "metadata": {
        "id": "U2iTt79ktjP_"
      },
      "execution_count": 97,
      "outputs": []
    },
    {
      "cell_type": "code",
      "source": [
        "output = np.zeros((4,1))"
      ],
      "metadata": {
        "id": "TgQz1OEkNMKK"
      },
      "execution_count": 98,
      "outputs": []
    },
    {
      "cell_type": "code",
      "source": [
        "input.shape"
      ],
      "metadata": {
        "colab": {
          "base_uri": "https://localhost:8080/"
        },
        "id": "yLUnWwP9NUNT",
        "outputId": "f704b997-24c8-4d6b-937f-7ce8774bb4be"
      },
      "execution_count": 99,
      "outputs": [
        {
          "output_type": "execute_result",
          "data": {
            "text/plain": [
              "(3, 1)"
            ]
          },
          "metadata": {},
          "execution_count": 99
        }
      ]
    },
    {
      "cell_type": "code",
      "source": [
        "output.shape"
      ],
      "metadata": {
        "colab": {
          "base_uri": "https://localhost:8080/"
        },
        "id": "VfEuissDNXfg",
        "outputId": "4d4f6097-e2c9-4421-a45d-32505fb055b2"
      },
      "execution_count": 100,
      "outputs": [
        {
          "output_type": "execute_result",
          "data": {
            "text/plain": [
              "(4, 1)"
            ]
          },
          "metadata": {},
          "execution_count": 100
        }
      ]
    },
    {
      "cell_type": "code",
      "source": [
        "rnn = Rnn()"
      ],
      "metadata": {
        "id": "k5_cQs5JM6gU"
      },
      "execution_count": 101,
      "outputs": []
    },
    {
      "cell_type": "code",
      "source": [
        "rnn_hidden_input = rnn.cal_rnn(input, output)\n",
        "rnn_hidden_input"
      ],
      "metadata": {
        "colab": {
          "base_uri": "https://localhost:8080/"
        },
        "id": "i_uykjRAM8am",
        "outputId": "59888703-bf49-4cbb-f61f-ee8529ab9962"
      },
      "execution_count": 102,
      "outputs": [
        {
          "output_type": "execute_result",
          "data": {
            "text/plain": [
              "array([[21.3331386 ],\n",
              "       [14.20754445],\n",
              "       [21.09580011],\n",
              "       [25.25849391]])"
            ]
          },
          "metadata": {},
          "execution_count": 102
        }
      ]
    },
    {
      "cell_type": "code",
      "source": [
        "act = Activation()"
      ],
      "metadata": {
        "id": "AWSiq6mWUgDb"
      },
      "execution_count": 103,
      "outputs": []
    },
    {
      "cell_type": "code",
      "source": [
        "rnn_hidden_output = act.sigmoid_fun(rnn_hidden_input)\n",
        "rnn_hidden_output"
      ],
      "metadata": {
        "colab": {
          "base_uri": "https://localhost:8080/"
        },
        "id": "GfGMvxEgUi_j",
        "outputId": "b116f571-9fbc-4636-b045-1b3277de77b7"
      },
      "execution_count": 104,
      "outputs": [
        {
          "output_type": "execute_result",
          "data": {
            "text/plain": [
              "array([[0.999999999456580],\n",
              "       [0.999999324319245],\n",
              "       [0.999999999311014],\n",
              "       [0.999999999989275]], dtype=object)"
            ]
          },
          "metadata": {},
          "execution_count": 104
        }
      ]
    },
    {
      "cell_type": "code",
      "source": [
        "rnn_result = rnn.cal_result(rnn_hidden_output, output)\n",
        "rnn_result"
      ],
      "metadata": {
        "colab": {
          "base_uri": "https://localhost:8080/"
        },
        "id": "84tksF--UuoJ",
        "outputId": "4b2dc645-2928-4e66-83d4-c2cca278ce26"
      },
      "execution_count": 105,
      "outputs": [
        {
          "output_type": "execute_result",
          "data": {
            "text/plain": [
              "array([[1.93013217594922],\n",
              "       [1.41556889540693],\n",
              "       [2.94625598158442],\n",
              "       [0.816321424270814]], dtype=object)"
            ]
          },
          "metadata": {},
          "execution_count": 105
        }
      ]
    },
    {
      "cell_type": "markdown",
      "source": [
        "델타 연산"
      ],
      "metadata": {
        "id": "oDSWaNjmr7Ty"
      }
    },
    {
      "cell_type": "markdown",
      "source": [
        "먼저 오차함수 미분값의 계산, "
      ],
      "metadata": {
        "id": "fkBGfLnltGpf"
      }
    },
    {
      "cell_type": "code",
      "source": [
        "err = Error()"
      ],
      "metadata": {
        "id": "Xt2S52BXtKF7"
      },
      "execution_count": 106,
      "outputs": []
    },
    {
      "cell_type": "code",
      "source": [
        "result = err.RMSE(target, rnn_result)\n",
        "result"
      ],
      "metadata": {
        "id": "nk4F6D04X1Mi",
        "colab": {
          "base_uri": "https://localhost:8080/",
          "height": 37
        },
        "outputId": "9c5ec89b-7577-445e-fc19-a32d84005463"
      },
      "execution_count": 109,
      "outputs": [
        {
          "output_type": "execute_result",
          "data": {
            "text/plain": [
              "143.679187151755"
            ],
            "text/latex": "$\\displaystyle 143.679187151755$"
          },
          "metadata": {},
          "execution_count": 109
        }
      ]
    },
    {
      "cell_type": "code",
      "source": [
        "err.d_fx"
      ],
      "metadata": {
        "colab": {
          "base_uri": "https://localhost:8080/",
          "height": 38
        },
        "id": "MQ8EDTHStZq-",
        "outputId": "bbbdf737-3428-480a-9482-0dc634d1569f"
      },
      "execution_count": 108,
      "outputs": [
        {
          "output_type": "execute_result",
          "data": {
            "text/plain": [
              "-1.0*t + 1.0*y"
            ],
            "text/latex": "$\\displaystyle - 1.0 t + 1.0 y$"
          },
          "metadata": {},
          "execution_count": 108
        }
      ]
    },
    {
      "cell_type": "code",
      "source": [
        "d_err = err.d_RMSE(target, rnn_result)\n",
        "d_err"
      ],
      "metadata": {
        "colab": {
          "base_uri": "https://localhost:8080/"
        },
        "id": "uodaMxxXtt4Q",
        "outputId": "ba240267-ad18-4377-ff0a-fe1b1613dc6a"
      },
      "execution_count": 111,
      "outputs": [
        {
          "output_type": "execute_result",
          "data": {
            "text/plain": [
              "array([[-6.46986782405078],\n",
              "       [-12.2844311045931],\n",
              "       [-12.0537440184156],\n",
              "       [-15.3836785757292]], dtype=object)"
            ]
          },
          "metadata": {},
          "execution_count": 111
        }
      ]
    },
    {
      "cell_type": "code",
      "source": [],
      "metadata": {
        "id": "GFyqn_jbtznd"
      },
      "execution_count": null,
      "outputs": []
    }
  ]
}