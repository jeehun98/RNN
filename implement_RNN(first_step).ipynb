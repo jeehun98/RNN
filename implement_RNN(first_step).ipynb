{
  "nbformat": 4,
  "nbformat_minor": 0,
  "metadata": {
    "colab": {
      "provenance": []
    },
    "kernelspec": {
      "name": "python3",
      "display_name": "Python 3"
    },
    "language_info": {
      "name": "python"
    }
  },
  "cells": [
    {
      "cell_type": "code",
      "source": [
        "import numpy as np\n",
        "import sympy"
      ],
      "metadata": {
        "id": "kzyAvyX7rGpj"
      },
      "execution_count": 23,
      "outputs": []
    },
    {
      "cell_type": "code",
      "source": [
        "perch_length = np.array(\n",
        "    [8.4, 13.7, 15.0, 16.2, 17.4, 18.0, 18.7, 19.0, 19.6, 20.0, \n",
        "     21.0, 21.0, 21.0, 21.3, 22.0, 22.0, 22.0, 22.0, 22.0, 22.5, \n",
        "     22.5, 22.7, 23.0, 23.5, 24.0, 24.0, 24.6, 25.0, 25.6, 26.5, \n",
        "     27.3, 27.5, 27.5, 27.5, 28.0, 28.7, 30.0, 32.8, 34.5, 35.0, \n",
        "     36.5, 36.0, 37.0, 37.0, 39.0, 39.0, 39.0, 40.0, 40.0, 40.0, \n",
        "     40.0, 42.0, 43.0, 43.0, 43.5, 44.0]\n",
        "     )\n",
        "perch_weight = np.array(\n",
        "    [5.9, 32.0, 40.0, 51.5, 70.0, 100.0, 78.0, 80.0, 85.0, 85.0, \n",
        "     110.0, 115.0, 125.0, 130.0, 120.0, 120.0, 130.0, 135.0, 110.0, \n",
        "     130.0, 150.0, 145.0, 150.0, 170.0, 225.0, 145.0, 188.0, 180.0, \n",
        "     197.0, 218.0, 300.0, 260.0, 265.0, 250.0, 250.0, 300.0, 320.0, \n",
        "     514.0, 556.0, 840.0, 685.0, 700.0, 700.0, 690.0, 900.0, 650.0, \n",
        "     820.0, 850.0, 900.0, 1015.0, 820.0, 1100.0, 1000.0, 1100.0, \n",
        "     1000.0, 1000.0]\n",
        "     )"
      ],
      "metadata": {
        "id": "6X3EmCMPICMF"
      },
      "execution_count": 24,
      "outputs": []
    },
    {
      "cell_type": "code",
      "execution_count": 25,
      "metadata": {
        "id": "_-kdD_qDqsoN"
      },
      "outputs": [],
      "source": [
        "class Rnn:\n",
        "  \"\"\"\n",
        "  순환 신경망의 계산\n",
        "  \"\"\"\n",
        "  # 입력 가중치\n",
        "  input_w = []\n",
        "\n",
        "  # 출력 가중치\n",
        "  result_w = []\n",
        "\n",
        "  # 편향 값 bais\n",
        "  bias = []\n",
        "\n",
        "  def cal_rnn(self, input, output, input_w = [], bias = []):\n",
        "    \"\"\"\n",
        "    순환 신경망 은닉층까지의 계산\n",
        "    args\n",
        "      input : 입력 데이터\n",
        "      output : 원하는 출력 형태\n",
        "    return \n",
        "      순환 신경망의 계산 결과\n",
        "    \"\"\"\n",
        "    # 이전 출력에 대한 입력, 첫 부분의 경우 이 값이 0이다.\n",
        "    last_result = np.zeros((output.shape[0], output.shape[1]))\n",
        "\n",
        "    # 이전 출력에 대한 가중치\n",
        "    last_result_w = np.random.rand(output.shape[0], output.shape[0])\n",
        "\n",
        "    self.result_w = last_result_w\n",
        "\n",
        "    # 가중치 w의 생성, \n",
        "    if not input_w:\n",
        "      input_w = np.random.rand(output.shape[0], input.shape[0])\n",
        "    \n",
        "    if not bias:\n",
        "      bias = np.random.rand()\n",
        "\n",
        "    self.input_w.append(input_w)\n",
        "\n",
        "    self.bias.append(bias)\n",
        "\n",
        "    return (last_result_w @ last_result) + (input_w @ input) + bias"
      ]
    },
    {
      "cell_type": "code",
      "source": [
        "input = perch_length[:3].reshape(-1,1)"
      ],
      "metadata": {
        "id": "llAe7T0HM1zj"
      },
      "execution_count": 26,
      "outputs": []
    },
    {
      "cell_type": "code",
      "source": [
        "output = np.zeros((4,1))"
      ],
      "metadata": {
        "id": "TgQz1OEkNMKK"
      },
      "execution_count": 27,
      "outputs": []
    },
    {
      "cell_type": "code",
      "source": [
        "input.shape"
      ],
      "metadata": {
        "colab": {
          "base_uri": "https://localhost:8080/"
        },
        "id": "yLUnWwP9NUNT",
        "outputId": "00debc3e-c710-43d6-c9ca-07247ce58484"
      },
      "execution_count": 28,
      "outputs": [
        {
          "output_type": "execute_result",
          "data": {
            "text/plain": [
              "(3, 1)"
            ]
          },
          "metadata": {},
          "execution_count": 28
        }
      ]
    },
    {
      "cell_type": "code",
      "source": [
        "output.shape"
      ],
      "metadata": {
        "colab": {
          "base_uri": "https://localhost:8080/"
        },
        "id": "VfEuissDNXfg",
        "outputId": "f4e41387-8cae-4a12-d1c0-631fcecd0725"
      },
      "execution_count": 29,
      "outputs": [
        {
          "output_type": "execute_result",
          "data": {
            "text/plain": [
              "(4, 1)"
            ]
          },
          "metadata": {},
          "execution_count": 29
        }
      ]
    },
    {
      "cell_type": "code",
      "source": [
        "rnn = Rnn()"
      ],
      "metadata": {
        "id": "k5_cQs5JM6gU"
      },
      "execution_count": 30,
      "outputs": []
    },
    {
      "cell_type": "code",
      "source": [
        "rnn.cal_rnn(input, output)"
      ],
      "metadata": {
        "colab": {
          "base_uri": "https://localhost:8080/"
        },
        "id": "i_uykjRAM8am",
        "outputId": "8b94a00c-f675-47b0-da8f-9dc1464ddf2e"
      },
      "execution_count": 31,
      "outputs": [
        {
          "output_type": "execute_result",
          "data": {
            "text/plain": [
              "array([[25.59324841],\n",
              "       [28.99273974],\n",
              "       [15.40310389],\n",
              "       [17.57879766]])"
            ]
          },
          "metadata": {},
          "execution_count": 31
        }
      ]
    },
    {
      "cell_type": "code",
      "source": [
        "rnn.result_w"
      ],
      "metadata": {
        "colab": {
          "base_uri": "https://localhost:8080/"
        },
        "id": "9uHUQrjRNbio",
        "outputId": "bf4f2bde-42c7-4f26-b285-95ff82eae3be"
      },
      "execution_count": 34,
      "outputs": [
        {
          "output_type": "execute_result",
          "data": {
            "text/plain": [
              "array([[0.47250706, 0.47940919, 0.51275488, 0.85205785],\n",
              "       [0.99419681, 0.4868925 , 0.65884597, 0.15471774],\n",
              "       [0.50109351, 0.3531499 , 0.6222718 , 0.04146825],\n",
              "       [0.58571257, 0.8730481 , 0.44088058, 0.04513136]])"
            ]
          },
          "metadata": {},
          "execution_count": 34
        }
      ]
    },
    {
      "cell_type": "code",
      "source": [
        "rnn.input_w"
      ],
      "metadata": {
        "colab": {
          "base_uri": "https://localhost:8080/"
        },
        "id": "cEk4orTLNaeX",
        "outputId": "37d125c0-9964-4df2-e496-69e76c8132c4"
      },
      "execution_count": 35,
      "outputs": [
        {
          "output_type": "execute_result",
          "data": {
            "text/plain": [
              "[array([[0.31763308, 0.93701675, 0.64755095],\n",
              "        [0.36421467, 0.79250269, 0.98008752],\n",
              "        [0.00612023, 0.35257579, 0.67644459],\n",
              "        [0.93087688, 0.54529768, 0.12760779]])]"
            ]
          },
          "metadata": {},
          "execution_count": 35
        }
      ]
    },
    {
      "cell_type": "code",
      "source": [
        "rnn.bias"
      ],
      "metadata": {
        "colab": {
          "base_uri": "https://localhost:8080/"
        },
        "id": "I6Ie_nOqNrdW",
        "outputId": "6c3adcbc-d039-4ad6-b36f-86fe8bbd9a99"
      },
      "execution_count": 36,
      "outputs": [
        {
          "output_type": "execute_result",
          "data": {
            "text/plain": [
              "[0.37473685262081036]"
            ]
          },
          "metadata": {},
          "execution_count": 36
        }
      ]
    },
    {
      "cell_type": "code",
      "source": [],
      "metadata": {
        "id": "nRDw2B1CNsdq"
      },
      "execution_count": null,
      "outputs": []
    }
  ]
}