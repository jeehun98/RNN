{
  "nbformat": 4,
  "nbformat_minor": 0,
  "metadata": {
    "colab": {
      "provenance": []
    },
    "kernelspec": {
      "name": "python3",
      "display_name": "Python 3"
    },
    "language_info": {
      "name": "python"
    }
  },
  "cells": [
    {
      "cell_type": "code",
      "execution_count": null,
      "metadata": {
        "id": "eFkOH8PtwkxK"
      },
      "outputs": [],
      "source": []
    },
    {
      "cell_type": "code",
      "source": [
        "import numpy as np\n",
        "import sympy"
      ],
      "metadata": {
        "id": "kzyAvyX7rGpj"
      },
      "execution_count": 1,
      "outputs": []
    },
    {
      "cell_type": "code",
      "source": [
        "perch_length = np.array(\n",
        "    [8.4, 13.7, 15.0, 16.2, 17.4, 18.0, 18.7, 19.0, 19.6, 20.0, \n",
        "     21.0, 21.0, 21.0, 21.3, 22.0, 22.0, 22.0, 22.0, 22.0, 22.5, \n",
        "     22.5, 22.7, 23.0, 23.5, 24.0, 24.0, 24.6, 25.0, 25.6, 26.5, \n",
        "     27.3, 27.5, 27.5, 27.5, 28.0, 28.7, 30.0, 32.8, 34.5, 35.0, \n",
        "     36.5, 36.0, 37.0, 37.0, 39.0, 39.0, 39.0, 40.0, 40.0, 40.0, \n",
        "     40.0, 42.0, 43.0, 43.0, 43.5, 44.0]\n",
        "     )\n",
        "perch_weight = np.array(\n",
        "    [5.9, 32.0, 40.0, 51.5, 70.0, 100.0, 78.0, 80.0, 85.0, 85.0, \n",
        "     110.0, 115.0, 125.0, 130.0, 120.0, 120.0, 130.0, 135.0, 110.0, \n",
        "     130.0, 150.0, 145.0, 150.0, 170.0, 225.0, 145.0, 188.0, 180.0, \n",
        "     197.0, 218.0, 300.0, 260.0, 265.0, 250.0, 250.0, 300.0, 320.0, \n",
        "     514.0, 556.0, 840.0, 685.0, 700.0, 700.0, 690.0, 900.0, 650.0, \n",
        "     820.0, 850.0, 900.0, 1015.0, 820.0, 1100.0, 1000.0, 1100.0, \n",
        "     1000.0, 1000.0]\n",
        "     )"
      ],
      "metadata": {
        "id": "6X3EmCMPICMF"
      },
      "execution_count": 2,
      "outputs": []
    },
    {
      "cell_type": "code",
      "source": [
        "class Activation:\n",
        "  \"\"\"\n",
        "  데이터의 활성화 함수 연산 결과를 얻기 위함\n",
        "  추가로 역전파 계산에 필요한 활성화 함수의 미분 함수\n",
        "  \"\"\"\n",
        "  # 활성화 함수\n",
        "  fx = 0\n",
        "  # 활성화 함수의 미분 함수\n",
        "  d_fx = 0\n",
        "\n",
        "  def sigmoid_fun(self, input):\n",
        "    \"\"\"\n",
        "    시그모이드 함수\n",
        "    자연 상수의 지수 함수를 사용한 0~1 사이의 값 출력\n",
        "    Args:\n",
        "      input : 입력값\n",
        "    Return:\n",
        "      0~1 사이의 값\n",
        "    \"\"\"\n",
        "    x = sympy.Symbol('x')\n",
        "    result = []\n",
        "\n",
        "    self.fx = 1/(1+np.e**(-x))\n",
        "\n",
        "    self.d_fx = sympy.diff(self.fx, x)\n",
        "\n",
        "    for i in range(input.shape[0]):\n",
        "      result.append(self.fx.subs([(x, input[i][0])]))\n",
        "\n",
        "    return np.array(result).reshape(-1, 1)\n",
        "\n",
        "  def d_sigmoid_fun(self, input):\n",
        "    \"\"\"\n",
        "    시그모이드 함수의 미분값, 노드의 출력이 입력된다.\n",
        "    arg\n",
        "      input : 입력값\n",
        "    return\n",
        "      시그모이드 미분 함수의 계산 값\n",
        "    \"\"\"\n",
        "    result = []\n",
        "\n",
        "    x = sympy.Symbol('x')\n",
        "\n",
        "    for i in range(input.shape[0]):\n",
        "      result.append(self.d_fx.subs([(x,input[i][0])]))\n",
        "\n",
        "    return np.array(result).reshape(-1, 1)"
      ],
      "metadata": {
        "id": "6In3iEf4fHze"
      },
      "execution_count": 3,
      "outputs": []
    },
    {
      "cell_type": "code",
      "source": [
        "class GRU:\n",
        "  # z 를 생성하기 위한 가중치\n",
        "  w_xz = []\n",
        "  w_hz = []\n",
        "  b_z = []\n",
        "  z = []\n",
        "\n",
        "  # r 를 생성하기 위한 가중치\n",
        "  w_xr = []\n",
        "  w_hr = []\n",
        "  b_r = []\n",
        "  r = []\n",
        "\n",
        "  # g 를 생성하기 위한 가중치\n",
        "  w_xg = []\n",
        "  w_hg = []\n",
        "  b_g = []\n",
        "  g = []\n",
        "\n",
        "  h = []\n",
        "\n",
        "  # 은닉 유닛의 출력\n",
        "  hidden_unit = []\n",
        "\n",
        "  def cal_z(self, t, input_x, output):\n",
        "    activation = Activation()\n",
        "\n",
        "    w_xz = np.random.rand(output.shape[0], input_x.shape[0])\n",
        "    w_hz = np.random.rand(output.shape[0], output.shape[1])\n",
        "    b_z = np.random.rand(output.shape[0],1)\n",
        "\n",
        "    self.w_xz.append(w_xz)\n",
        "    self.w_hz.append(w_hz)\n",
        "    self.b_z.append(b_z)\n",
        "\n",
        "    z = w_xz@input_x + w_hz@self.hidden_unit[t] + b_z\n",
        "    z = activation.sigmoid_fun(z)\n",
        "    self.z.append(z)\n",
        "\n",
        "    return z\n",
        "\n",
        "  def cal_r(self, t, input_x, output):\n",
        "    activation = Activation()\n",
        "\n",
        "    w_xr = np.random.rand(output.shape[0], input_x.shape[0])\n",
        "    w_hr = np.random.rand(output.shape[0], output.shape[1])\n",
        "    b_r = np.random.rand(output.shape[0],1)\n",
        "\n",
        "    self.w_xr.append(w_xr)\n",
        "    self.w_hr.append(w_hr)\n",
        "    self.b_r.append(b_r)\n",
        "\n",
        "    r = w_xr@input_x + w_hr@self.hidden_unit[t] + b_r\n",
        "    r = activation.sigmoid_fun(r)\n",
        "    self.r.append(r)\n",
        "\n",
        "    return r\n",
        "\n",
        "  def cal_g(self, t, input_x, output):\n",
        "    activation = Activation()\n",
        "\n",
        "    w_xg = np.random.rand(output.shape[0], input_x.shape[0])\n",
        "    w_hg = np.random.rand(output.shape[0], output.shape[1])\n",
        "    b_g = np.random.rand(output.shape[0],1)\n",
        "\n",
        "    self.w_xr.append(w_xg)\n",
        "    self.w_hr.append(w_hg)\n",
        "    self.b_r.append(b_g)\n",
        "\n",
        "    r = w_xg + w_hg @ (self.r[t] * self.hidden_unit[t])\n",
        "    self.r.append(r)\n",
        "\n",
        "    return r\n",
        "\n",
        "  def cal_h(self, t):\n",
        "    h = self.z[t] * self.hidden_unit[t] + (1 - self.z[t]) * self.g[t]"
      ],
      "metadata": {
        "id": "gFm3SUaKXMfM"
      },
      "execution_count": 4,
      "outputs": []
    }
  ]
}