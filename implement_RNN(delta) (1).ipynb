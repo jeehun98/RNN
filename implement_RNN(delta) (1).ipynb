{
  "nbformat": 4,
  "nbformat_minor": 0,
  "metadata": {
    "colab": {
      "provenance": []
    },
    "kernelspec": {
      "name": "python3",
      "display_name": "Python 3"
    },
    "language_info": {
      "name": "python"
    }
  },
  "cells": [
    {
      "cell_type": "code",
      "source": [
        "import numpy as np\n",
        "import sympy"
      ],
      "metadata": {
        "id": "kzyAvyX7rGpj"
      },
      "execution_count": 21,
      "outputs": []
    },
    {
      "cell_type": "code",
      "source": [
        "perch_length = np.array(\n",
        "    [8.4, 13.7, 15.0, 16.2, 17.4, 18.0, 18.7, 19.0, 19.6, 20.0, \n",
        "     21.0, 21.0, 21.0, 21.3, 22.0, 22.0, 22.0, 22.0, 22.0, 22.5, \n",
        "     22.5, 22.7, 23.0, 23.5, 24.0, 24.0, 24.6, 25.0, 25.6, 26.5, \n",
        "     27.3, 27.5, 27.5, 27.5, 28.0, 28.7, 30.0, 32.8, 34.5, 35.0, \n",
        "     36.5, 36.0, 37.0, 37.0, 39.0, 39.0, 39.0, 40.0, 40.0, 40.0, \n",
        "     40.0, 42.0, 43.0, 43.0, 43.5, 44.0]\n",
        "     )\n",
        "perch_weight = np.array(\n",
        "    [5.9, 32.0, 40.0, 51.5, 70.0, 100.0, 78.0, 80.0, 85.0, 85.0, \n",
        "     110.0, 115.0, 125.0, 130.0, 120.0, 120.0, 130.0, 135.0, 110.0, \n",
        "     130.0, 150.0, 145.0, 150.0, 170.0, 225.0, 145.0, 188.0, 180.0, \n",
        "     197.0, 218.0, 300.0, 260.0, 265.0, 250.0, 250.0, 300.0, 320.0, \n",
        "     514.0, 556.0, 840.0, 685.0, 700.0, 700.0, 690.0, 900.0, 650.0, \n",
        "     820.0, 850.0, 900.0, 1015.0, 820.0, 1100.0, 1000.0, 1100.0, \n",
        "     1000.0, 1000.0]\n",
        "     )"
      ],
      "metadata": {
        "id": "6X3EmCMPICMF"
      },
      "execution_count": 22,
      "outputs": []
    },
    {
      "cell_type": "code",
      "execution_count": 23,
      "metadata": {
        "id": "_-kdD_qDqsoN"
      },
      "outputs": [],
      "source": [
        "class Rnn:\n",
        "  \"\"\"\n",
        "  순환 신경망의 계산\n",
        "  \"\"\"\n",
        "  # 입력 가중치\n",
        "  input_w = []\n",
        "\n",
        "  # 이전 출력에 대한 가중치\n",
        "  before_w = []\n",
        "\n",
        "  # 출력 가중치\n",
        "  result_w = []\n",
        "\n",
        "  # 편향 값 bais\n",
        "  bias = []\n",
        "\n",
        "  def cal_rnn(self, input, output, input_w = [], bias = []):\n",
        "    \"\"\"\n",
        "    순환 신경망 은닉층까지의 계산\n",
        "    args\n",
        "      input : 입력 데이터\n",
        "      output : 원하는 출력 형태\n",
        "    return \n",
        "      순환 신경망의 계산 결과\n",
        "    \"\"\"\n",
        "    # 이전 출력에 대한 입력, 첫 부분의 경우 이 값이 0이다.\n",
        "    before = np.zeros((output.shape[0], output.shape[1]))\n",
        "\n",
        "    # 이전 출력에 대한 가중치\n",
        "    before_w = np.random.rand(output.shape[0], output.shape[0])\n",
        "\n",
        "    self.before_w.append(before_w)\n",
        "\n",
        "    # 가중치 w의 생성, \n",
        "    if not input_w:\n",
        "      input_w = np.random.rand(output.shape[0], input.shape[0])\n",
        "    \n",
        "    if not bias:\n",
        "      bias = np.random.rand()\n",
        "\n",
        "    self.input_w.append(input_w)\n",
        "\n",
        "    self.bias.append(bias)\n",
        "\n",
        "    return (before_w @ before) + (input_w @ input) + bias\n",
        "\n",
        "  def cal_result(self, input, output, w = []):\n",
        "    \"\"\"\n",
        "    순환 신경망의 은닉층 출력에서 최종 결과값으로의 계산\n",
        "    args\n",
        "      input : 입력 데이터\n",
        "      output : 원하는 출력 형태\n",
        "    return \n",
        "      행렬 곱 연산 결과\n",
        "    \"\"\"\n",
        "    # 가중치 생성\n",
        "    if not w:\n",
        "      result_w = np.random.rand(output.shape[0], output.shape[0])\n",
        "\n",
        "    self.result_w.append(result_w)\n",
        "\n",
        "    return result_w @ input"
      ]
    },
    {
      "cell_type": "code",
      "source": [
        "class Activation:\n",
        "  \"\"\"\n",
        "  데이터의 활성화 함수 연산 결과를 얻기 위함\n",
        "  추가로 역전파 계산에 필요한 활성화 함수의 미분 함수\n",
        "  \"\"\"\n",
        "  # 활성화 함수\n",
        "  fx = 0\n",
        "  # 활성화 함수의 미분 함수\n",
        "  d_fx = 0\n",
        "\n",
        "  def sigmoid_fun(self, input):\n",
        "    \"\"\"\n",
        "    시그모이드 함수\n",
        "    자연 상수의 지수 함수를 사용한 0~1 사이의 값 출력\n",
        "    Args:\n",
        "      input : 입력값\n",
        "    Return:\n",
        "      0~1 사이의 값\n",
        "    \"\"\"\n",
        "    x = sympy.Symbol('x')\n",
        "    result = []\n",
        "\n",
        "    self.fx = 1/(1+np.e**(-x))\n",
        "\n",
        "    self.d_fx = sympy.diff(self.fx, x)\n",
        "\n",
        "    for i in range(input.shape[0]):\n",
        "      result.append(self.fx.subs([(x, input[i][0])]))\n",
        "\n",
        "    return np.array(result).reshape(-1, 1)\n",
        "\n",
        "  def d_sigmoid_fun(self, input):\n",
        "    \"\"\"\n",
        "    시그모이드 함수의 미분값, 노드의 출력이 입력된다.\n",
        "    arg\n",
        "      input : 입력값\n",
        "    return\n",
        "      시그모이드 미분 함수의 계산 값\n",
        "    \"\"\"\n",
        "    result = []\n",
        "\n",
        "    x = sympy.Symbol('x')\n",
        "\n",
        "    for i in range(input.shape[0]):\n",
        "      result.append(self.d_fx.subs([(x,input[i][0])]))\n",
        "\n",
        "    return np.array(result).reshape(-1, 1)"
      ],
      "metadata": {
        "id": "RmV7boqvUfXB"
      },
      "execution_count": 24,
      "outputs": []
    },
    {
      "cell_type": "code",
      "source": [
        "class Error:\n",
        "  \"\"\"\n",
        "  오차 함수와 오차 함수의 미분 함수를 얻을 수 있다.  \n",
        "  \"\"\"\n",
        "  # 오차 함수\n",
        "  fx = 0\n",
        "  \n",
        "  # 오차 함수의 미분값\n",
        "  d_fx = 0\n",
        "  \n",
        "  def RMSE(self, target, predict):\n",
        "    \"\"\"\n",
        "    일반적인 제곱 오차 함수\n",
        "    args:\n",
        "      target : 목표 변수\n",
        "      predict : 예측 변수\n",
        "    return:\n",
        "      제곱 오차 평균 값\n",
        "    \"\"\"\n",
        "    result = (predict - target)**2\n",
        "    self.result = np.mean(result)\n",
        "\n",
        "    t = sympy.Symbol('t')\n",
        "    y = sympy.Symbol('y')\n",
        "\n",
        "    self.fx = 1/2*((y-t)**2)\n",
        "\n",
        "    self.d_fx = sympy.diff(self.fx, y)\n",
        "\n",
        "    return self.result\n",
        "\n",
        "  def d_RMSE(self, target, predict):\n",
        "    \"\"\"\n",
        "    RMSE 의 미분 함수\n",
        "    args\n",
        "      target : 목표 변수\n",
        "      predict : 예측 변수\n",
        "    return:\n",
        "      미분 함수의 계산 값\n",
        "    \"\"\"\n",
        "    result = []\n",
        "\n",
        "    t = sympy.Symbol('t')\n",
        "    y = sympy.Symbol('y')\n",
        "\n",
        "    for i in range(target.shape[0]):\n",
        "      result.append(self.d_fx.subs([(t, target[i][0]), (y, predict[i][0])]))\n",
        "    \n",
        "    return np.array(result).reshape(-1, 1)\n"
      ],
      "metadata": {
        "id": "xCdI_XqApbCi"
      },
      "execution_count": 25,
      "outputs": []
    },
    {
      "cell_type": "code",
      "source": [
        "input = perch_length[:3].reshape(-1,1)"
      ],
      "metadata": {
        "id": "llAe7T0HM1zj"
      },
      "execution_count": 26,
      "outputs": []
    },
    {
      "cell_type": "code",
      "source": [
        "target = perch_length[:4].reshape(-1,1)"
      ],
      "metadata": {
        "id": "U2iTt79ktjP_"
      },
      "execution_count": 27,
      "outputs": []
    },
    {
      "cell_type": "code",
      "source": [
        "output = np.zeros((4,1))"
      ],
      "metadata": {
        "id": "TgQz1OEkNMKK"
      },
      "execution_count": 28,
      "outputs": []
    },
    {
      "cell_type": "code",
      "source": [
        "input.shape"
      ],
      "metadata": {
        "colab": {
          "base_uri": "https://localhost:8080/"
        },
        "id": "yLUnWwP9NUNT",
        "outputId": "46eec682-c5ab-46bd-ef05-93cf45ff5d13"
      },
      "execution_count": 29,
      "outputs": [
        {
          "output_type": "execute_result",
          "data": {
            "text/plain": [
              "(3, 1)"
            ]
          },
          "metadata": {},
          "execution_count": 29
        }
      ]
    },
    {
      "cell_type": "code",
      "source": [
        "output.shape"
      ],
      "metadata": {
        "colab": {
          "base_uri": "https://localhost:8080/"
        },
        "id": "VfEuissDNXfg",
        "outputId": "48362027-eb5d-49fa-aef3-b6b02c635846"
      },
      "execution_count": 30,
      "outputs": [
        {
          "output_type": "execute_result",
          "data": {
            "text/plain": [
              "(4, 1)"
            ]
          },
          "metadata": {},
          "execution_count": 30
        }
      ]
    },
    {
      "cell_type": "code",
      "source": [
        "rnn = Rnn()"
      ],
      "metadata": {
        "id": "k5_cQs5JM6gU"
      },
      "execution_count": 31,
      "outputs": []
    },
    {
      "cell_type": "code",
      "source": [
        "rnn_hidden_input = rnn.cal_rnn(input, output)\n",
        "rnn_hidden_input"
      ],
      "metadata": {
        "colab": {
          "base_uri": "https://localhost:8080/"
        },
        "id": "i_uykjRAM8am",
        "outputId": "1c937a48-bc4b-4170-f0c4-0b1ae9470bbd"
      },
      "execution_count": 32,
      "outputs": [
        {
          "output_type": "execute_result",
          "data": {
            "text/plain": [
              "array([[27.18335902],\n",
              "       [26.98653618],\n",
              "       [30.07985368],\n",
              "       [14.80012467]])"
            ]
          },
          "metadata": {},
          "execution_count": 32
        }
      ]
    },
    {
      "cell_type": "code",
      "source": [
        "act = Activation()"
      ],
      "metadata": {
        "id": "AWSiq6mWUgDb"
      },
      "execution_count": 33,
      "outputs": []
    },
    {
      "cell_type": "code",
      "source": [
        "rnn_hidden_output = act.sigmoid_fun(rnn_hidden_input)\n",
        "rnn_hidden_output"
      ],
      "metadata": {
        "colab": {
          "base_uri": "https://localhost:8080/"
        },
        "id": "GfGMvxEgUi_j",
        "outputId": "9e959e17-a4ff-41ca-8c08-00732dc3362e"
      },
      "execution_count": 34,
      "outputs": [
        {
          "output_type": "execute_result",
          "data": {
            "text/plain": [
              "array([[0.999999999998435],\n",
              "       [0.999999999998095],\n",
              "       [0.999999999999914],\n",
              "       [0.999999626416781]], dtype=object)"
            ]
          },
          "metadata": {},
          "execution_count": 34
        }
      ]
    },
    {
      "cell_type": "code",
      "source": [
        "rnn_result = rnn.cal_result(rnn_hidden_output, output)\n",
        "rnn_result"
      ],
      "metadata": {
        "colab": {
          "base_uri": "https://localhost:8080/"
        },
        "id": "84tksF--UuoJ",
        "outputId": "340ae793-7e9c-4cb6-f62b-3b926ecd506e"
      },
      "execution_count": 35,
      "outputs": [
        {
          "output_type": "execute_result",
          "data": {
            "text/plain": [
              "array([[1.44804551013409],\n",
              "       [1.90846122547644],\n",
              "       [0.959052584242066],\n",
              "       [1.63291049936139]], dtype=object)"
            ]
          },
          "metadata": {},
          "execution_count": 35
        }
      ]
    },
    {
      "cell_type": "markdown",
      "source": [
        "델타 연산"
      ],
      "metadata": {
        "id": "oDSWaNjmr7Ty"
      }
    },
    {
      "cell_type": "markdown",
      "source": [
        "먼저 오차함수 미분값의 계산, "
      ],
      "metadata": {
        "id": "fkBGfLnltGpf"
      }
    },
    {
      "cell_type": "code",
      "source": [
        "err = Error()"
      ],
      "metadata": {
        "id": "Xt2S52BXtKF7"
      },
      "execution_count": 36,
      "outputs": []
    },
    {
      "cell_type": "code",
      "source": [
        "result = err.RMSE(target, rnn_result)\n",
        "result"
      ],
      "metadata": {
        "id": "nk4F6D04X1Mi",
        "colab": {
          "base_uri": "https://localhost:8080/",
          "height": 37
        },
        "outputId": "8ab9bc34-bb0d-4880-a772-72fcb60c8870"
      },
      "execution_count": 37,
      "outputs": [
        {
          "output_type": "execute_result",
          "data": {
            "text/plain": [
              "149.179589687989"
            ],
            "text/latex": "$\\displaystyle 149.179589687989$"
          },
          "metadata": {},
          "execution_count": 37
        }
      ]
    },
    {
      "cell_type": "code",
      "source": [
        "err.d_fx"
      ],
      "metadata": {
        "colab": {
          "base_uri": "https://localhost:8080/",
          "height": 38
        },
        "id": "MQ8EDTHStZq-",
        "outputId": "4fa96f82-4c5d-4279-9389-983a41dd9526"
      },
      "execution_count": 38,
      "outputs": [
        {
          "output_type": "execute_result",
          "data": {
            "text/plain": [
              "-1.0*t + 1.0*y"
            ],
            "text/latex": "$\\displaystyle - 1.0 t + 1.0 y$"
          },
          "metadata": {},
          "execution_count": 38
        }
      ]
    },
    {
      "cell_type": "code",
      "source": [
        "d_err = err.d_RMSE(target, rnn_result)\n",
        "d_err"
      ],
      "metadata": {
        "colab": {
          "base_uri": "https://localhost:8080/"
        },
        "id": "uodaMxxXtt4Q",
        "outputId": "0885708c-31c7-4a35-ee81-1d0e07a03bda"
      },
      "execution_count": 39,
      "outputs": [
        {
          "output_type": "execute_result",
          "data": {
            "text/plain": [
              "array([[-6.95195448986591],\n",
              "       [-11.7915387745236],\n",
              "       [-14.0409474157579],\n",
              "       [-14.5670895006386]], dtype=object)"
            ]
          },
          "metadata": {},
          "execution_count": 39
        }
      ]
    },
    {
      "cell_type": "code",
      "source": [
        "d_recurrent = np.zeros((4,1))\n",
        "d_recurrent"
      ],
      "metadata": {
        "colab": {
          "base_uri": "https://localhost:8080/"
        },
        "id": "GFyqn_jbtznd",
        "outputId": "13a470fe-d8aa-4771-e314-24acddde4806"
      },
      "execution_count": 40,
      "outputs": [
        {
          "output_type": "execute_result",
          "data": {
            "text/plain": [
              "array([[0.],\n",
              "       [0.],\n",
              "       [0.],\n",
              "       [0.]])"
            ]
          },
          "metadata": {},
          "execution_count": 40
        }
      ]
    },
    {
      "cell_type": "code",
      "source": [
        "input_delta = d_recurrent\n",
        "input_delta"
      ],
      "metadata": {
        "colab": {
          "base_uri": "https://localhost:8080/"
        },
        "id": "NEfO7sDRcOK1",
        "outputId": "a804e6e6-66f0-4cb1-ccc8-df8cdd774a56"
      },
      "execution_count": 44,
      "outputs": [
        {
          "output_type": "execute_result",
          "data": {
            "text/plain": [
              "array([[0.],\n",
              "       [0.],\n",
              "       [0.],\n",
              "       [0.]])"
            ]
          },
          "metadata": {},
          "execution_count": 44
        }
      ]
    },
    {
      "cell_type": "code",
      "source": [
        "result_delta = d_err\n",
        "result_delta"
      ],
      "metadata": {
        "colab": {
          "base_uri": "https://localhost:8080/"
        },
        "id": "Vi36KqWycST5",
        "outputId": "039a2f01-f6cf-42a0-e531-2aad2159de8c"
      },
      "execution_count": 45,
      "outputs": [
        {
          "output_type": "execute_result",
          "data": {
            "text/plain": [
              "array([[-6.95195448986591],\n",
              "       [-11.7915387745236],\n",
              "       [-14.0409474157579],\n",
              "       [-14.5670895006386]], dtype=object)"
            ]
          },
          "metadata": {},
          "execution_count": 45
        }
      ]
    },
    {
      "cell_type": "code",
      "source": [
        "rnn.result_w[0].shape"
      ],
      "metadata": {
        "id": "jAg4J-m9zdJ7",
        "colab": {
          "base_uri": "https://localhost:8080/"
        },
        "outputId": "100b8f0b-d1bb-4c0d-84a1-0021b83a736d"
      },
      "execution_count": 50,
      "outputs": [
        {
          "output_type": "execute_result",
          "data": {
            "text/plain": [
              "(4, 4)"
            ]
          },
          "metadata": {},
          "execution_count": 50
        }
      ]
    },
    {
      "cell_type": "markdown",
      "source": [
        "은닉층의 델타 계산"
      ],
      "metadata": {
        "id": "EXa8WWQjfT3x"
      }
    },
    {
      "cell_type": "markdown",
      "source": [
        "먼저 은닉층의 각 노드의 변화에 따른 오차 함수의 변화량 계산"
      ],
      "metadata": {
        "id": "XhfMQdAyfV3D"
      }
    },
    {
      "cell_type": "code",
      "source": [
        "d_hidden_output = (result_delta.T @ rnn.result_w[0].T).T\n",
        "d_hidden_output"
      ],
      "metadata": {
        "colab": {
          "base_uri": "https://localhost:8080/"
        },
        "id": "Fb4_s3epeyNE",
        "outputId": "d6befd30-5e06-4f62-ac00-3e7cbcfb8e84"
      },
      "execution_count": 51,
      "outputs": [
        {
          "output_type": "execute_result",
          "data": {
            "text/plain": [
              "array([[-18.1675689317745],\n",
              "       [-23.8685510231791],\n",
              "       [-12.2289589429272],\n",
              "       [-20.0960454525135]], dtype=object)"
            ]
          },
          "metadata": {},
          "execution_count": 51
        }
      ]
    },
    {
      "cell_type": "markdown",
      "source": [
        "은닉층 각 노드들의 delta 값의 계산"
      ],
      "metadata": {
        "id": "yAunOi65g_Hw"
      }
    },
    {
      "cell_type": "code",
      "source": [
        "hidden_delta = d_hidden_output * act.d_sigmoid_fun(rnn_hidden_output)\n",
        "hidden_delta"
      ],
      "metadata": {
        "colab": {
          "base_uri": "https://localhost:8080/"
        },
        "id": "taX5jdx-gNMK",
        "outputId": "f3fbcfcc-b5b2-4d27-940d-2b3b69771eed"
      },
      "execution_count": 52,
      "outputs": [
        {
          "output_type": "execute_result",
          "data": {
            "text/plain": [
              "array([[-3.57196084997666],\n",
              "       [-4.69284196034432],\n",
              "       [-2.40435925929972],\n",
              "       [-3.95112302904597]], dtype=object)"
            ]
          },
          "metadata": {},
          "execution_count": 52
        }
      ]
    },
    {
      "cell_type": "code",
      "source": [
        "input_w_diff = input * hidden_delta.T\n",
        "input_w_diff"
      ],
      "metadata": {
        "colab": {
          "base_uri": "https://localhost:8080/"
        },
        "id": "baRyodVihSIw",
        "outputId": "a4cfd73a-3500-4808-d9e6-94370fb8e006"
      },
      "execution_count": 53,
      "outputs": [
        {
          "output_type": "execute_result",
          "data": {
            "text/plain": [
              "array([[-30.0044711398039, -39.4198724668923, -20.1966177781177,\n",
              "        -33.1894334439862],\n",
              "       [-48.9358636446802, -64.2919348567172, -32.9397218524062,\n",
              "        -54.1303854979298],\n",
              "       [-53.5794127496499, -70.3926294051648, -36.0653888894958,\n",
              "        -59.2668454356896]], dtype=object)"
            ]
          },
          "metadata": {},
          "execution_count": 53
        }
      ]
    },
    {
      "cell_type": "code",
      "source": [],
      "metadata": {
        "id": "Q7a-hu7FhjoN"
      },
      "execution_count": null,
      "outputs": []
    }
  ]
}